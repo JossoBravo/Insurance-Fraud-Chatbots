{
 "cells": [
  {
   "cell_type": "code",
   "execution_count": 1,
   "metadata": {},
   "outputs": [],
   "source": [
    "import numpy as np\n",
    "import pandas as pd\n",
    "import matplotlib.pyplot as plt"
   ]
  },
  {
   "cell_type": "code",
   "execution_count": 2,
   "metadata": {},
   "outputs": [],
   "source": [
    "df=pd.read_excel('Insurancefraud.xlsx', sheet_name='Fraud')"
   ]
  },
  {
   "cell_type": "code",
   "execution_count": 3,
   "metadata": {},
   "outputs": [
    {
     "data": {
      "text/html": [
       "<div>\n",
       "<style scoped>\n",
       "    .dataframe tbody tr th:only-of-type {\n",
       "        vertical-align: middle;\n",
       "    }\n",
       "\n",
       "    .dataframe tbody tr th {\n",
       "        vertical-align: top;\n",
       "    }\n",
       "\n",
       "    .dataframe thead th {\n",
       "        text-align: right;\n",
       "    }\n",
       "</style>\n",
       "<table border=\"1\" class=\"dataframe\">\n",
       "  <thead>\n",
       "    <tr style=\"text-align: right;\">\n",
       "      <th></th>\n",
       "      <th>months_as_customer</th>\n",
       "      <th>age</th>\n",
       "      <th>policy_number</th>\n",
       "      <th>policy_initial_date</th>\n",
       "      <th>policy_state</th>\n",
       "      <th>limit/person</th>\n",
       "      <th>limit_accident</th>\n",
       "      <th>policy_deductable</th>\n",
       "      <th>policy_annual_premium</th>\n",
       "      <th>umbrella_limit</th>\n",
       "      <th>...</th>\n",
       "      <th>property_damage</th>\n",
       "      <th>bodily_injuries</th>\n",
       "      <th>witnesses</th>\n",
       "      <th>police_report_available</th>\n",
       "      <th>total_claim_amount</th>\n",
       "      <th>injury_claim</th>\n",
       "      <th>property_claim</th>\n",
       "      <th>vehicle_claim</th>\n",
       "      <th>auto_year</th>\n",
       "      <th>fraud_reported</th>\n",
       "    </tr>\n",
       "  </thead>\n",
       "  <tbody>\n",
       "    <tr>\n",
       "      <th>0</th>\n",
       "      <td>328</td>\n",
       "      <td>48</td>\n",
       "      <td>521585</td>\n",
       "      <td>2014-10-17</td>\n",
       "      <td>OH</td>\n",
       "      <td>250</td>\n",
       "      <td>500</td>\n",
       "      <td>1000</td>\n",
       "      <td>1406.91</td>\n",
       "      <td>0</td>\n",
       "      <td>...</td>\n",
       "      <td>YES</td>\n",
       "      <td>1</td>\n",
       "      <td>2</td>\n",
       "      <td>YES</td>\n",
       "      <td>71610</td>\n",
       "      <td>6510</td>\n",
       "      <td>13020</td>\n",
       "      <td>52080</td>\n",
       "      <td>2004</td>\n",
       "      <td>1</td>\n",
       "    </tr>\n",
       "    <tr>\n",
       "      <th>1</th>\n",
       "      <td>228</td>\n",
       "      <td>42</td>\n",
       "      <td>342868</td>\n",
       "      <td>2006-06-27</td>\n",
       "      <td>IN</td>\n",
       "      <td>250</td>\n",
       "      <td>500</td>\n",
       "      <td>2000</td>\n",
       "      <td>1197.22</td>\n",
       "      <td>5000000</td>\n",
       "      <td>...</td>\n",
       "      <td>NO</td>\n",
       "      <td>0</td>\n",
       "      <td>0</td>\n",
       "      <td>NO</td>\n",
       "      <td>5070</td>\n",
       "      <td>780</td>\n",
       "      <td>780</td>\n",
       "      <td>3510</td>\n",
       "      <td>2007</td>\n",
       "      <td>1</td>\n",
       "    </tr>\n",
       "    <tr>\n",
       "      <th>2</th>\n",
       "      <td>134</td>\n",
       "      <td>29</td>\n",
       "      <td>687698</td>\n",
       "      <td>2000-09-06</td>\n",
       "      <td>OH</td>\n",
       "      <td>100</td>\n",
       "      <td>300</td>\n",
       "      <td>2000</td>\n",
       "      <td>1413.14</td>\n",
       "      <td>5000000</td>\n",
       "      <td>...</td>\n",
       "      <td>NO</td>\n",
       "      <td>2</td>\n",
       "      <td>3</td>\n",
       "      <td>NO</td>\n",
       "      <td>34650</td>\n",
       "      <td>7700</td>\n",
       "      <td>3850</td>\n",
       "      <td>23100</td>\n",
       "      <td>2007</td>\n",
       "      <td>0</td>\n",
       "    </tr>\n",
       "    <tr>\n",
       "      <th>3</th>\n",
       "      <td>256</td>\n",
       "      <td>41</td>\n",
       "      <td>227811</td>\n",
       "      <td>1990-05-25</td>\n",
       "      <td>IL</td>\n",
       "      <td>250</td>\n",
       "      <td>500</td>\n",
       "      <td>2000</td>\n",
       "      <td>1415.74</td>\n",
       "      <td>6000000</td>\n",
       "      <td>...</td>\n",
       "      <td>NO</td>\n",
       "      <td>1</td>\n",
       "      <td>2</td>\n",
       "      <td>NO</td>\n",
       "      <td>63400</td>\n",
       "      <td>6340</td>\n",
       "      <td>6340</td>\n",
       "      <td>50720</td>\n",
       "      <td>2014</td>\n",
       "      <td>1</td>\n",
       "    </tr>\n",
       "    <tr>\n",
       "      <th>4</th>\n",
       "      <td>228</td>\n",
       "      <td>44</td>\n",
       "      <td>367455</td>\n",
       "      <td>2014-06-06</td>\n",
       "      <td>IL</td>\n",
       "      <td>500</td>\n",
       "      <td>1000</td>\n",
       "      <td>1000</td>\n",
       "      <td>1583.91</td>\n",
       "      <td>6000000</td>\n",
       "      <td>...</td>\n",
       "      <td>NO</td>\n",
       "      <td>0</td>\n",
       "      <td>1</td>\n",
       "      <td>NO</td>\n",
       "      <td>6500</td>\n",
       "      <td>1300</td>\n",
       "      <td>650</td>\n",
       "      <td>4550</td>\n",
       "      <td>2009</td>\n",
       "      <td>0</td>\n",
       "    </tr>\n",
       "    <tr>\n",
       "      <th>...</th>\n",
       "      <td>...</td>\n",
       "      <td>...</td>\n",
       "      <td>...</td>\n",
       "      <td>...</td>\n",
       "      <td>...</td>\n",
       "      <td>...</td>\n",
       "      <td>...</td>\n",
       "      <td>...</td>\n",
       "      <td>...</td>\n",
       "      <td>...</td>\n",
       "      <td>...</td>\n",
       "      <td>...</td>\n",
       "      <td>...</td>\n",
       "      <td>...</td>\n",
       "      <td>...</td>\n",
       "      <td>...</td>\n",
       "      <td>...</td>\n",
       "      <td>...</td>\n",
       "      <td>...</td>\n",
       "      <td>...</td>\n",
       "      <td>...</td>\n",
       "    </tr>\n",
       "    <tr>\n",
       "      <th>995</th>\n",
       "      <td>3</td>\n",
       "      <td>38</td>\n",
       "      <td>941851</td>\n",
       "      <td>1991-07-16</td>\n",
       "      <td>OH</td>\n",
       "      <td>500</td>\n",
       "      <td>1000</td>\n",
       "      <td>1000</td>\n",
       "      <td>1310.80</td>\n",
       "      <td>0</td>\n",
       "      <td>...</td>\n",
       "      <td>YES</td>\n",
       "      <td>0</td>\n",
       "      <td>1</td>\n",
       "      <td>NO</td>\n",
       "      <td>87200</td>\n",
       "      <td>17440</td>\n",
       "      <td>8720</td>\n",
       "      <td>61040</td>\n",
       "      <td>2006</td>\n",
       "      <td>0</td>\n",
       "    </tr>\n",
       "    <tr>\n",
       "      <th>996</th>\n",
       "      <td>285</td>\n",
       "      <td>41</td>\n",
       "      <td>186934</td>\n",
       "      <td>2014-01-05</td>\n",
       "      <td>IL</td>\n",
       "      <td>100</td>\n",
       "      <td>300</td>\n",
       "      <td>1000</td>\n",
       "      <td>1436.79</td>\n",
       "      <td>0</td>\n",
       "      <td>...</td>\n",
       "      <td>YES</td>\n",
       "      <td>2</td>\n",
       "      <td>3</td>\n",
       "      <td>NO</td>\n",
       "      <td>108480</td>\n",
       "      <td>18080</td>\n",
       "      <td>18080</td>\n",
       "      <td>72320</td>\n",
       "      <td>2015</td>\n",
       "      <td>0</td>\n",
       "    </tr>\n",
       "    <tr>\n",
       "      <th>997</th>\n",
       "      <td>130</td>\n",
       "      <td>34</td>\n",
       "      <td>918516</td>\n",
       "      <td>2003-02-17</td>\n",
       "      <td>OH</td>\n",
       "      <td>250</td>\n",
       "      <td>500</td>\n",
       "      <td>500</td>\n",
       "      <td>1383.49</td>\n",
       "      <td>3000000</td>\n",
       "      <td>...</td>\n",
       "      <td>NO</td>\n",
       "      <td>2</td>\n",
       "      <td>3</td>\n",
       "      <td>YES</td>\n",
       "      <td>67500</td>\n",
       "      <td>7500</td>\n",
       "      <td>7500</td>\n",
       "      <td>52500</td>\n",
       "      <td>1996</td>\n",
       "      <td>0</td>\n",
       "    </tr>\n",
       "    <tr>\n",
       "      <th>998</th>\n",
       "      <td>458</td>\n",
       "      <td>62</td>\n",
       "      <td>533940</td>\n",
       "      <td>2011-11-18</td>\n",
       "      <td>IL</td>\n",
       "      <td>500</td>\n",
       "      <td>1000</td>\n",
       "      <td>2000</td>\n",
       "      <td>1356.92</td>\n",
       "      <td>5000000</td>\n",
       "      <td>...</td>\n",
       "      <td>NO</td>\n",
       "      <td>0</td>\n",
       "      <td>1</td>\n",
       "      <td>YES</td>\n",
       "      <td>46980</td>\n",
       "      <td>5220</td>\n",
       "      <td>5220</td>\n",
       "      <td>36540</td>\n",
       "      <td>1998</td>\n",
       "      <td>0</td>\n",
       "    </tr>\n",
       "    <tr>\n",
       "      <th>999</th>\n",
       "      <td>456</td>\n",
       "      <td>60</td>\n",
       "      <td>556080</td>\n",
       "      <td>1996-11-11</td>\n",
       "      <td>OH</td>\n",
       "      <td>250</td>\n",
       "      <td>500</td>\n",
       "      <td>1000</td>\n",
       "      <td>766.19</td>\n",
       "      <td>0</td>\n",
       "      <td>...</td>\n",
       "      <td>NO</td>\n",
       "      <td>0</td>\n",
       "      <td>3</td>\n",
       "      <td>NO</td>\n",
       "      <td>5060</td>\n",
       "      <td>460</td>\n",
       "      <td>920</td>\n",
       "      <td>3680</td>\n",
       "      <td>2007</td>\n",
       "      <td>0</td>\n",
       "    </tr>\n",
       "  </tbody>\n",
       "</table>\n",
       "<p>1000 rows × 33 columns</p>\n",
       "</div>"
      ],
      "text/plain": [
       "     months_as_customer  age  policy_number policy_initial_date policy_state  \\\n",
       "0                   328   48         521585          2014-10-17           OH   \n",
       "1                   228   42         342868          2006-06-27           IN   \n",
       "2                   134   29         687698          2000-09-06           OH   \n",
       "3                   256   41         227811          1990-05-25           IL   \n",
       "4                   228   44         367455          2014-06-06           IL   \n",
       "..                  ...  ...            ...                 ...          ...   \n",
       "995                   3   38         941851          1991-07-16           OH   \n",
       "996                 285   41         186934          2014-01-05           IL   \n",
       "997                 130   34         918516          2003-02-17           OH   \n",
       "998                 458   62         533940          2011-11-18           IL   \n",
       "999                 456   60         556080          1996-11-11           OH   \n",
       "\n",
       "     limit/person  limit_accident  policy_deductable  policy_annual_premium  \\\n",
       "0             250             500               1000                1406.91   \n",
       "1             250             500               2000                1197.22   \n",
       "2             100             300               2000                1413.14   \n",
       "3             250             500               2000                1415.74   \n",
       "4             500            1000               1000                1583.91   \n",
       "..            ...             ...                ...                    ...   \n",
       "995           500            1000               1000                1310.80   \n",
       "996           100             300               1000                1436.79   \n",
       "997           250             500                500                1383.49   \n",
       "998           500            1000               2000                1356.92   \n",
       "999           250             500               1000                 766.19   \n",
       "\n",
       "     umbrella_limit  ...  property_damage bodily_injuries witnesses  \\\n",
       "0                 0  ...              YES               1         2   \n",
       "1           5000000  ...               NO               0         0   \n",
       "2           5000000  ...               NO               2         3   \n",
       "3           6000000  ...               NO               1         2   \n",
       "4           6000000  ...               NO               0         1   \n",
       "..              ...  ...              ...             ...       ...   \n",
       "995               0  ...              YES               0         1   \n",
       "996               0  ...              YES               2         3   \n",
       "997         3000000  ...               NO               2         3   \n",
       "998         5000000  ...               NO               0         1   \n",
       "999               0  ...               NO               0         3   \n",
       "\n",
       "    police_report_available  total_claim_amount  injury_claim property_claim  \\\n",
       "0                       YES               71610          6510          13020   \n",
       "1                        NO                5070           780            780   \n",
       "2                        NO               34650          7700           3850   \n",
       "3                        NO               63400          6340           6340   \n",
       "4                        NO                6500          1300            650   \n",
       "..                      ...                 ...           ...            ...   \n",
       "995                      NO               87200         17440           8720   \n",
       "996                      NO              108480         18080          18080   \n",
       "997                     YES               67500          7500           7500   \n",
       "998                     YES               46980          5220           5220   \n",
       "999                      NO                5060           460            920   \n",
       "\n",
       "    vehicle_claim auto_year fraud_reported  \n",
       "0           52080      2004              1  \n",
       "1            3510      2007              1  \n",
       "2           23100      2007              0  \n",
       "3           50720      2014              1  \n",
       "4            4550      2009              0  \n",
       "..            ...       ...            ...  \n",
       "995         61040      2006              0  \n",
       "996         72320      2015              0  \n",
       "997         52500      1996              0  \n",
       "998         36540      1998              0  \n",
       "999          3680      2007              0  \n",
       "\n",
       "[1000 rows x 33 columns]"
      ]
     },
     "execution_count": 3,
     "metadata": {},
     "output_type": "execute_result"
    }
   ],
   "source": [
    "df"
   ]
  },
  {
   "cell_type": "markdown",
   "metadata": {},
   "source": [
    "Este conjunto de datos parece contener información relacionada con reclamaciones de seguros, con columnas que incluyen detalles sobre los clientes (como months_as_customer, age, policy_number), detalles de la póliza de seguro (como policy_state, limit/person, policy_annual_premium), y detalles específicos de las reclamaciones (como total_claim_amount, injury_claim, vehicle_claim) entre otros. La columna fraud_reported indica si se reportó fraude en la reclamación, donde 1 representa fraude y 0 representa no fraude."
   ]
  },
  {
   "cell_type": "code",
   "execution_count": 4,
   "metadata": {},
   "outputs": [
    {
     "data": {
      "text/html": [
       "<div>\n",
       "<style scoped>\n",
       "    .dataframe tbody tr th:only-of-type {\n",
       "        vertical-align: middle;\n",
       "    }\n",
       "\n",
       "    .dataframe tbody tr th {\n",
       "        vertical-align: top;\n",
       "    }\n",
       "\n",
       "    .dataframe thead th {\n",
       "        text-align: right;\n",
       "    }\n",
       "</style>\n",
       "<table border=\"1\" class=\"dataframe\">\n",
       "  <thead>\n",
       "    <tr style=\"text-align: right;\">\n",
       "      <th></th>\n",
       "      <th>months_as_customer</th>\n",
       "      <th>age</th>\n",
       "      <th>policy_number</th>\n",
       "      <th>limit/person</th>\n",
       "      <th>limit_accident</th>\n",
       "      <th>policy_deductable</th>\n",
       "      <th>policy_annual_premium</th>\n",
       "      <th>umbrella_limit</th>\n",
       "      <th>insured_zip_code</th>\n",
       "      <th>capital-gains</th>\n",
       "      <th>...</th>\n",
       "      <th>incident_hour_of_the_day</th>\n",
       "      <th>number_of_vehicles_involved</th>\n",
       "      <th>bodily_injuries</th>\n",
       "      <th>witnesses</th>\n",
       "      <th>total_claim_amount</th>\n",
       "      <th>injury_claim</th>\n",
       "      <th>property_claim</th>\n",
       "      <th>vehicle_claim</th>\n",
       "      <th>auto_year</th>\n",
       "      <th>fraud_reported</th>\n",
       "    </tr>\n",
       "  </thead>\n",
       "  <tbody>\n",
       "    <tr>\n",
       "      <th>count</th>\n",
       "      <td>1000.000000</td>\n",
       "      <td>1000.000000</td>\n",
       "      <td>1000.000000</td>\n",
       "      <td>1000.000000</td>\n",
       "      <td>1000.000000</td>\n",
       "      <td>1000.000000</td>\n",
       "      <td>1000.000000</td>\n",
       "      <td>1.000000e+03</td>\n",
       "      <td>1000.000000</td>\n",
       "      <td>1000.000000</td>\n",
       "      <td>...</td>\n",
       "      <td>1000.000000</td>\n",
       "      <td>1000.00000</td>\n",
       "      <td>1000.000000</td>\n",
       "      <td>1000.000000</td>\n",
       "      <td>1000.00000</td>\n",
       "      <td>1000.000000</td>\n",
       "      <td>1000.000000</td>\n",
       "      <td>1000.000000</td>\n",
       "      <td>1000.000000</td>\n",
       "      <td>1000.000000</td>\n",
       "    </tr>\n",
       "    <tr>\n",
       "      <th>mean</th>\n",
       "      <td>203.954000</td>\n",
       "      <td>38.948000</td>\n",
       "      <td>546238.648000</td>\n",
       "      <td>272.650000</td>\n",
       "      <td>580.200000</td>\n",
       "      <td>1136.000000</td>\n",
       "      <td>1256.406150</td>\n",
       "      <td>1.101000e+06</td>\n",
       "      <td>501214.488000</td>\n",
       "      <td>25126.100000</td>\n",
       "      <td>...</td>\n",
       "      <td>11.644000</td>\n",
       "      <td>1.83900</td>\n",
       "      <td>0.992000</td>\n",
       "      <td>1.487000</td>\n",
       "      <td>52761.94000</td>\n",
       "      <td>7433.420000</td>\n",
       "      <td>7399.570000</td>\n",
       "      <td>37928.950000</td>\n",
       "      <td>2005.103000</td>\n",
       "      <td>0.247000</td>\n",
       "    </tr>\n",
       "    <tr>\n",
       "      <th>std</th>\n",
       "      <td>115.113174</td>\n",
       "      <td>9.140287</td>\n",
       "      <td>257063.005276</td>\n",
       "      <td>161.603196</td>\n",
       "      <td>287.420547</td>\n",
       "      <td>611.864673</td>\n",
       "      <td>244.167395</td>\n",
       "      <td>2.297407e+06</td>\n",
       "      <td>71701.610941</td>\n",
       "      <td>27872.187708</td>\n",
       "      <td>...</td>\n",
       "      <td>6.951373</td>\n",
       "      <td>1.01888</td>\n",
       "      <td>0.820127</td>\n",
       "      <td>1.111335</td>\n",
       "      <td>26401.53319</td>\n",
       "      <td>4880.951853</td>\n",
       "      <td>4824.726179</td>\n",
       "      <td>18886.252893</td>\n",
       "      <td>6.015861</td>\n",
       "      <td>0.431483</td>\n",
       "    </tr>\n",
       "    <tr>\n",
       "      <th>min</th>\n",
       "      <td>0.000000</td>\n",
       "      <td>19.000000</td>\n",
       "      <td>100804.000000</td>\n",
       "      <td>100.000000</td>\n",
       "      <td>300.000000</td>\n",
       "      <td>500.000000</td>\n",
       "      <td>433.330000</td>\n",
       "      <td>-1.000000e+06</td>\n",
       "      <td>430104.000000</td>\n",
       "      <td>0.000000</td>\n",
       "      <td>...</td>\n",
       "      <td>0.000000</td>\n",
       "      <td>1.00000</td>\n",
       "      <td>0.000000</td>\n",
       "      <td>0.000000</td>\n",
       "      <td>100.00000</td>\n",
       "      <td>0.000000</td>\n",
       "      <td>0.000000</td>\n",
       "      <td>70.000000</td>\n",
       "      <td>1995.000000</td>\n",
       "      <td>0.000000</td>\n",
       "    </tr>\n",
       "    <tr>\n",
       "      <th>25%</th>\n",
       "      <td>115.750000</td>\n",
       "      <td>32.000000</td>\n",
       "      <td>335980.250000</td>\n",
       "      <td>100.000000</td>\n",
       "      <td>300.000000</td>\n",
       "      <td>500.000000</td>\n",
       "      <td>1089.607500</td>\n",
       "      <td>0.000000e+00</td>\n",
       "      <td>448404.500000</td>\n",
       "      <td>0.000000</td>\n",
       "      <td>...</td>\n",
       "      <td>6.000000</td>\n",
       "      <td>1.00000</td>\n",
       "      <td>0.000000</td>\n",
       "      <td>1.000000</td>\n",
       "      <td>41812.50000</td>\n",
       "      <td>4295.000000</td>\n",
       "      <td>4445.000000</td>\n",
       "      <td>30292.500000</td>\n",
       "      <td>2000.000000</td>\n",
       "      <td>0.000000</td>\n",
       "    </tr>\n",
       "    <tr>\n",
       "      <th>50%</th>\n",
       "      <td>199.500000</td>\n",
       "      <td>38.000000</td>\n",
       "      <td>533135.000000</td>\n",
       "      <td>250.000000</td>\n",
       "      <td>500.000000</td>\n",
       "      <td>1000.000000</td>\n",
       "      <td>1257.200000</td>\n",
       "      <td>0.000000e+00</td>\n",
       "      <td>466445.500000</td>\n",
       "      <td>0.000000</td>\n",
       "      <td>...</td>\n",
       "      <td>12.000000</td>\n",
       "      <td>1.00000</td>\n",
       "      <td>1.000000</td>\n",
       "      <td>1.000000</td>\n",
       "      <td>58055.00000</td>\n",
       "      <td>6775.000000</td>\n",
       "      <td>6750.000000</td>\n",
       "      <td>42100.000000</td>\n",
       "      <td>2005.000000</td>\n",
       "      <td>0.000000</td>\n",
       "    </tr>\n",
       "    <tr>\n",
       "      <th>75%</th>\n",
       "      <td>276.250000</td>\n",
       "      <td>44.000000</td>\n",
       "      <td>759099.750000</td>\n",
       "      <td>500.000000</td>\n",
       "      <td>1000.000000</td>\n",
       "      <td>2000.000000</td>\n",
       "      <td>1415.695000</td>\n",
       "      <td>0.000000e+00</td>\n",
       "      <td>603251.000000</td>\n",
       "      <td>51025.000000</td>\n",
       "      <td>...</td>\n",
       "      <td>17.000000</td>\n",
       "      <td>3.00000</td>\n",
       "      <td>2.000000</td>\n",
       "      <td>2.000000</td>\n",
       "      <td>70592.50000</td>\n",
       "      <td>11305.000000</td>\n",
       "      <td>10885.000000</td>\n",
       "      <td>50822.500000</td>\n",
       "      <td>2010.000000</td>\n",
       "      <td>0.000000</td>\n",
       "    </tr>\n",
       "    <tr>\n",
       "      <th>max</th>\n",
       "      <td>479.000000</td>\n",
       "      <td>64.000000</td>\n",
       "      <td>999435.000000</td>\n",
       "      <td>500.000000</td>\n",
       "      <td>1000.000000</td>\n",
       "      <td>2000.000000</td>\n",
       "      <td>2047.590000</td>\n",
       "      <td>1.000000e+07</td>\n",
       "      <td>620962.000000</td>\n",
       "      <td>100500.000000</td>\n",
       "      <td>...</td>\n",
       "      <td>23.000000</td>\n",
       "      <td>4.00000</td>\n",
       "      <td>2.000000</td>\n",
       "      <td>3.000000</td>\n",
       "      <td>114920.00000</td>\n",
       "      <td>21450.000000</td>\n",
       "      <td>23670.000000</td>\n",
       "      <td>79560.000000</td>\n",
       "      <td>2015.000000</td>\n",
       "      <td>1.000000</td>\n",
       "    </tr>\n",
       "  </tbody>\n",
       "</table>\n",
       "<p>8 rows × 21 columns</p>\n",
       "</div>"
      ],
      "text/plain": [
       "       months_as_customer          age  policy_number  limit/person  \\\n",
       "count         1000.000000  1000.000000    1000.000000   1000.000000   \n",
       "mean           203.954000    38.948000  546238.648000    272.650000   \n",
       "std            115.113174     9.140287  257063.005276    161.603196   \n",
       "min              0.000000    19.000000  100804.000000    100.000000   \n",
       "25%            115.750000    32.000000  335980.250000    100.000000   \n",
       "50%            199.500000    38.000000  533135.000000    250.000000   \n",
       "75%            276.250000    44.000000  759099.750000    500.000000   \n",
       "max            479.000000    64.000000  999435.000000    500.000000   \n",
       "\n",
       "       limit_accident  policy_deductable  policy_annual_premium  \\\n",
       "count     1000.000000        1000.000000            1000.000000   \n",
       "mean       580.200000        1136.000000            1256.406150   \n",
       "std        287.420547         611.864673             244.167395   \n",
       "min        300.000000         500.000000             433.330000   \n",
       "25%        300.000000         500.000000            1089.607500   \n",
       "50%        500.000000        1000.000000            1257.200000   \n",
       "75%       1000.000000        2000.000000            1415.695000   \n",
       "max       1000.000000        2000.000000            2047.590000   \n",
       "\n",
       "       umbrella_limit  insured_zip_code  capital-gains  ...  \\\n",
       "count    1.000000e+03       1000.000000    1000.000000  ...   \n",
       "mean     1.101000e+06     501214.488000   25126.100000  ...   \n",
       "std      2.297407e+06      71701.610941   27872.187708  ...   \n",
       "min     -1.000000e+06     430104.000000       0.000000  ...   \n",
       "25%      0.000000e+00     448404.500000       0.000000  ...   \n",
       "50%      0.000000e+00     466445.500000       0.000000  ...   \n",
       "75%      0.000000e+00     603251.000000   51025.000000  ...   \n",
       "max      1.000000e+07     620962.000000  100500.000000  ...   \n",
       "\n",
       "       incident_hour_of_the_day  number_of_vehicles_involved  bodily_injuries  \\\n",
       "count               1000.000000                   1000.00000      1000.000000   \n",
       "mean                  11.644000                      1.83900         0.992000   \n",
       "std                    6.951373                      1.01888         0.820127   \n",
       "min                    0.000000                      1.00000         0.000000   \n",
       "25%                    6.000000                      1.00000         0.000000   \n",
       "50%                   12.000000                      1.00000         1.000000   \n",
       "75%                   17.000000                      3.00000         2.000000   \n",
       "max                   23.000000                      4.00000         2.000000   \n",
       "\n",
       "         witnesses  total_claim_amount  injury_claim  property_claim  \\\n",
       "count  1000.000000          1000.00000   1000.000000     1000.000000   \n",
       "mean      1.487000         52761.94000   7433.420000     7399.570000   \n",
       "std       1.111335         26401.53319   4880.951853     4824.726179   \n",
       "min       0.000000           100.00000      0.000000        0.000000   \n",
       "25%       1.000000         41812.50000   4295.000000     4445.000000   \n",
       "50%       1.000000         58055.00000   6775.000000     6750.000000   \n",
       "75%       2.000000         70592.50000  11305.000000    10885.000000   \n",
       "max       3.000000        114920.00000  21450.000000    23670.000000   \n",
       "\n",
       "       vehicle_claim    auto_year  fraud_reported  \n",
       "count    1000.000000  1000.000000     1000.000000  \n",
       "mean    37928.950000  2005.103000        0.247000  \n",
       "std     18886.252893     6.015861        0.431483  \n",
       "min        70.000000  1995.000000        0.000000  \n",
       "25%     30292.500000  2000.000000        0.000000  \n",
       "50%     42100.000000  2005.000000        0.000000  \n",
       "75%     50822.500000  2010.000000        0.000000  \n",
       "max     79560.000000  2015.000000        1.000000  \n",
       "\n",
       "[8 rows x 21 columns]"
      ]
     },
     "execution_count": 4,
     "metadata": {},
     "output_type": "execute_result"
    }
   ],
   "source": [
    "df.describe()"
   ]
  },
  {
   "cell_type": "code",
   "execution_count": 5,
   "metadata": {},
   "outputs": [
    {
     "data": {
      "text/plain": [
       "247"
      ]
     },
     "execution_count": 5,
     "metadata": {},
     "output_type": "execute_result"
    }
   ],
   "source": [
    "sum_row = df['fraud_reported'].sum()\n",
    "sum_row"
   ]
  },
  {
   "cell_type": "code",
   "execution_count": 6,
   "metadata": {},
   "outputs": [
    {
     "data": {
      "text/html": [
       "<div>\n",
       "<style scoped>\n",
       "    .dataframe tbody tr th:only-of-type {\n",
       "        vertical-align: middle;\n",
       "    }\n",
       "\n",
       "    .dataframe tbody tr th {\n",
       "        vertical-align: top;\n",
       "    }\n",
       "\n",
       "    .dataframe thead th {\n",
       "        text-align: right;\n",
       "    }\n",
       "</style>\n",
       "<table border=\"1\" class=\"dataframe\">\n",
       "  <thead>\n",
       "    <tr style=\"text-align: right;\">\n",
       "      <th></th>\n",
       "      <th>months_as_customer</th>\n",
       "      <th>age</th>\n",
       "      <th>policy_number</th>\n",
       "      <th>policy_initial_date</th>\n",
       "      <th>policy_state</th>\n",
       "      <th>limit/person</th>\n",
       "      <th>limit_accident</th>\n",
       "      <th>policy_deductable</th>\n",
       "      <th>policy_annual_premium</th>\n",
       "      <th>umbrella_limit</th>\n",
       "      <th>...</th>\n",
       "      <th>bodily_injuries</th>\n",
       "      <th>witnesses</th>\n",
       "      <th>police_report_available</th>\n",
       "      <th>total_claim_amount</th>\n",
       "      <th>injury_claim</th>\n",
       "      <th>property_claim</th>\n",
       "      <th>vehicle_claim</th>\n",
       "      <th>auto_year</th>\n",
       "      <th>fraud_reported</th>\n",
       "      <th>Train</th>\n",
       "    </tr>\n",
       "  </thead>\n",
       "  <tbody>\n",
       "    <tr>\n",
       "      <th>0</th>\n",
       "      <td>328</td>\n",
       "      <td>48</td>\n",
       "      <td>521585</td>\n",
       "      <td>2014-10-17</td>\n",
       "      <td>OH</td>\n",
       "      <td>250</td>\n",
       "      <td>500</td>\n",
       "      <td>1000</td>\n",
       "      <td>1406.91</td>\n",
       "      <td>0</td>\n",
       "      <td>...</td>\n",
       "      <td>1</td>\n",
       "      <td>2</td>\n",
       "      <td>YES</td>\n",
       "      <td>71610</td>\n",
       "      <td>6510</td>\n",
       "      <td>13020</td>\n",
       "      <td>52080</td>\n",
       "      <td>2004</td>\n",
       "      <td>1</td>\n",
       "      <td>0</td>\n",
       "    </tr>\n",
       "    <tr>\n",
       "      <th>1</th>\n",
       "      <td>228</td>\n",
       "      <td>42</td>\n",
       "      <td>342868</td>\n",
       "      <td>2006-06-27</td>\n",
       "      <td>IN</td>\n",
       "      <td>250</td>\n",
       "      <td>500</td>\n",
       "      <td>2000</td>\n",
       "      <td>1197.22</td>\n",
       "      <td>5000000</td>\n",
       "      <td>...</td>\n",
       "      <td>0</td>\n",
       "      <td>0</td>\n",
       "      <td>NO</td>\n",
       "      <td>5070</td>\n",
       "      <td>780</td>\n",
       "      <td>780</td>\n",
       "      <td>3510</td>\n",
       "      <td>2007</td>\n",
       "      <td>1</td>\n",
       "      <td>1</td>\n",
       "    </tr>\n",
       "    <tr>\n",
       "      <th>2</th>\n",
       "      <td>134</td>\n",
       "      <td>29</td>\n",
       "      <td>687698</td>\n",
       "      <td>2000-09-06</td>\n",
       "      <td>OH</td>\n",
       "      <td>100</td>\n",
       "      <td>300</td>\n",
       "      <td>2000</td>\n",
       "      <td>1413.14</td>\n",
       "      <td>5000000</td>\n",
       "      <td>...</td>\n",
       "      <td>2</td>\n",
       "      <td>3</td>\n",
       "      <td>NO</td>\n",
       "      <td>34650</td>\n",
       "      <td>7700</td>\n",
       "      <td>3850</td>\n",
       "      <td>23100</td>\n",
       "      <td>2007</td>\n",
       "      <td>0</td>\n",
       "      <td>1</td>\n",
       "    </tr>\n",
       "    <tr>\n",
       "      <th>3</th>\n",
       "      <td>256</td>\n",
       "      <td>41</td>\n",
       "      <td>227811</td>\n",
       "      <td>1990-05-25</td>\n",
       "      <td>IL</td>\n",
       "      <td>250</td>\n",
       "      <td>500</td>\n",
       "      <td>2000</td>\n",
       "      <td>1415.74</td>\n",
       "      <td>6000000</td>\n",
       "      <td>...</td>\n",
       "      <td>1</td>\n",
       "      <td>2</td>\n",
       "      <td>NO</td>\n",
       "      <td>63400</td>\n",
       "      <td>6340</td>\n",
       "      <td>6340</td>\n",
       "      <td>50720</td>\n",
       "      <td>2014</td>\n",
       "      <td>1</td>\n",
       "      <td>1</td>\n",
       "    </tr>\n",
       "    <tr>\n",
       "      <th>4</th>\n",
       "      <td>228</td>\n",
       "      <td>44</td>\n",
       "      <td>367455</td>\n",
       "      <td>2014-06-06</td>\n",
       "      <td>IL</td>\n",
       "      <td>500</td>\n",
       "      <td>1000</td>\n",
       "      <td>1000</td>\n",
       "      <td>1583.91</td>\n",
       "      <td>6000000</td>\n",
       "      <td>...</td>\n",
       "      <td>0</td>\n",
       "      <td>1</td>\n",
       "      <td>NO</td>\n",
       "      <td>6500</td>\n",
       "      <td>1300</td>\n",
       "      <td>650</td>\n",
       "      <td>4550</td>\n",
       "      <td>2009</td>\n",
       "      <td>0</td>\n",
       "      <td>0</td>\n",
       "    </tr>\n",
       "  </tbody>\n",
       "</table>\n",
       "<p>5 rows × 34 columns</p>\n",
       "</div>"
      ],
      "text/plain": [
       "   months_as_customer  age  policy_number policy_initial_date policy_state  \\\n",
       "0                 328   48         521585          2014-10-17           OH   \n",
       "1                 228   42         342868          2006-06-27           IN   \n",
       "2                 134   29         687698          2000-09-06           OH   \n",
       "3                 256   41         227811          1990-05-25           IL   \n",
       "4                 228   44         367455          2014-06-06           IL   \n",
       "\n",
       "   limit/person  limit_accident  policy_deductable  policy_annual_premium  \\\n",
       "0           250             500               1000                1406.91   \n",
       "1           250             500               2000                1197.22   \n",
       "2           100             300               2000                1413.14   \n",
       "3           250             500               2000                1415.74   \n",
       "4           500            1000               1000                1583.91   \n",
       "\n",
       "   umbrella_limit  ...  bodily_injuries witnesses police_report_available  \\\n",
       "0               0  ...                1         2                     YES   \n",
       "1         5000000  ...                0         0                      NO   \n",
       "2         5000000  ...                2         3                      NO   \n",
       "3         6000000  ...                1         2                      NO   \n",
       "4         6000000  ...                0         1                      NO   \n",
       "\n",
       "  total_claim_amount  injury_claim  property_claim vehicle_claim auto_year  \\\n",
       "0              71610          6510           13020         52080      2004   \n",
       "1               5070           780             780          3510      2007   \n",
       "2              34650          7700            3850         23100      2007   \n",
       "3              63400          6340            6340         50720      2014   \n",
       "4               6500          1300             650          4550      2009   \n",
       "\n",
       "  fraud_reported Train  \n",
       "0              1     0  \n",
       "1              1     1  \n",
       "2              0     1  \n",
       "3              1     1  \n",
       "4              0     0  \n",
       "\n",
       "[5 rows x 34 columns]"
      ]
     },
     "execution_count": 6,
     "metadata": {},
     "output_type": "execute_result"
    }
   ],
   "source": [
    "np.random.seed(12345)\n",
    "df['Train']=[1 if np.random.uniform()<0.5 else 0 for _ in range(len(df))]\n",
    "df.head()"
   ]
  },
  {
   "cell_type": "markdown",
   "metadata": {},
   "source": [
    "Este fragmento de código agrega una nueva columna llamada Train al DataFrame df. La columna se llena con valores 1 y 0, determinados de forma aleatoria. La intención detrás de esto suele ser dividir el conjunto de datos en dos subconjuntos: uno para entrenamiento y otro para pruebas/validación, una práctica común en el aprendizaje automático y análisis de datos para evaluar la generalización de los modelos."
   ]
  },
  {
   "cell_type": "markdown",
   "metadata": {},
   "source": [
    "La columna Train ahora puede ser utilizada como un indicador para dividir el conjunto de datos. Por ejemplo, puedes usar las filas donde Train es 1 para entrenar un modelo, y las filas donde Train es 0 para validar el modelo o para pruebas."
   ]
  },
  {
   "cell_type": "markdown",
   "metadata": {},
   "source": [
    "La columna Train se ha añadido correctamente al DataFrame. Ahora cada fila tiene asignado un valor 0 o 1 en esta columna, determinado de forma aleatoria. Esto indica si cada fila se utilizará para entrenamiento (1) o no (0), permitiendo así una división simple del conjunto de datos para propósitos de entrenamiento y validación o pruebas."
   ]
  },
  {
   "cell_type": "code",
   "execution_count": 7,
   "metadata": {},
   "outputs": [],
   "source": [
    "x=df.drop(columns=['fraud_reported', 'Train'])\n",
    "y=df['fraud_reported']"
   ]
  },
  {
   "cell_type": "markdown",
   "metadata": {},
   "source": [
    "x = df.drop(columns=['fraud_reported', 'Train']): Esta línea crea un nuevo DataFrame x que es una copia de df pero sin las columnas fraud_reported y Train. La función drop elimina las columnas especificadas del DataFrame. Esto se hace porque fraud_reported es lo que usualmente queremos predecir (la variable objetivo o dependiente), y Train es una columna artificial que hemos añadido para dividir el conjunto de datos, por lo tanto, ninguna de las dos debe incluirse en las variables de entrada para el modelo."
   ]
  },
  {
   "cell_type": "markdown",
   "metadata": {},
   "source": [
    "y = df['fraud_reported']: Esta línea extrae la columna fraud_reported de df y la asigna a y. Esta será nuestra variable objetivo, que contiene los valores que intentaremos predecir con nuestro modelo. En el contexto de este conjunto de datos, y contiene información sobre si se reportó fraude (1) o no (0) en cada caso.\n",
    "    "
   ]
  },
  {
   "cell_type": "markdown",
   "metadata": {},
   "source": [
    "En resumen:\n",
    "\n",
    "x contiene los predictores o variables independientes (todas las columnas excepto fraud_reported y Train), que son los datos que usaremos para predecir los valores de y.\n",
    "y contiene la variable objetivo o dependiente (fraud_reported), que es el resultado que esperamos predecir basándonos en los datos en x."
   ]
  },
  {
   "cell_type": "code",
   "execution_count": 8,
   "metadata": {},
   "outputs": [],
   "source": [
    "x_train = x[df['Train'] == 1]\n",
    "#It selects the rows on x, where the conditiomn is true\n",
    "x_test = x[df['Train'] == 0]\n",
    "#It selects the rows on x, where the conditiomn is true\n",
    "y_train = y[df['Train'] == 1]\n",
    "#It selects the rows on y, where the conditiomn is true\n",
    "y_test = y[df['Train'] == 0]\n",
    "#It selects the rows on y, where the conditiomn is true"
   ]
  },
  {
   "cell_type": "markdown",
   "metadata": {},
   "source": [
    "Este bloque de código divide los datos en dos conjuntos: uno para entrenar el modelo (x_train y y_train) y otro para evaluar su rendimiento (x_test y y_test), basándose en la columna Train que fue añadida previamente al DataFrame df. Esta es una práctica común en el aprendizaje automático para evaluar cómo el modelo generaliza a nuevos datos que no ha visto durante el entrenamiento."
   ]
  },
  {
   "cell_type": "code",
   "execution_count": 9,
   "metadata": {},
   "outputs": [
    {
     "data": {
      "text/html": [
       "<div>\n",
       "<style scoped>\n",
       "    .dataframe tbody tr th:only-of-type {\n",
       "        vertical-align: middle;\n",
       "    }\n",
       "\n",
       "    .dataframe tbody tr th {\n",
       "        vertical-align: top;\n",
       "    }\n",
       "\n",
       "    .dataframe thead th {\n",
       "        text-align: right;\n",
       "    }\n",
       "</style>\n",
       "<table border=\"1\" class=\"dataframe\">\n",
       "  <thead>\n",
       "    <tr style=\"text-align: right;\">\n",
       "      <th></th>\n",
       "      <th>months_as_customer</th>\n",
       "      <th>age</th>\n",
       "      <th>policy_number</th>\n",
       "      <th>policy_initial_date</th>\n",
       "      <th>policy_state</th>\n",
       "      <th>limit/person</th>\n",
       "      <th>limit_accident</th>\n",
       "      <th>policy_deductable</th>\n",
       "      <th>policy_annual_premium</th>\n",
       "      <th>umbrella_limit</th>\n",
       "      <th>...</th>\n",
       "      <th>number_of_vehicles_involved</th>\n",
       "      <th>property_damage</th>\n",
       "      <th>bodily_injuries</th>\n",
       "      <th>witnesses</th>\n",
       "      <th>police_report_available</th>\n",
       "      <th>total_claim_amount</th>\n",
       "      <th>injury_claim</th>\n",
       "      <th>property_claim</th>\n",
       "      <th>vehicle_claim</th>\n",
       "      <th>auto_year</th>\n",
       "    </tr>\n",
       "  </thead>\n",
       "  <tbody>\n",
       "    <tr>\n",
       "      <th>1</th>\n",
       "      <td>228</td>\n",
       "      <td>42</td>\n",
       "      <td>342868</td>\n",
       "      <td>2006-06-27</td>\n",
       "      <td>IN</td>\n",
       "      <td>250</td>\n",
       "      <td>500</td>\n",
       "      <td>2000</td>\n",
       "      <td>1197.22</td>\n",
       "      <td>5000000</td>\n",
       "      <td>...</td>\n",
       "      <td>1</td>\n",
       "      <td>NO</td>\n",
       "      <td>0</td>\n",
       "      <td>0</td>\n",
       "      <td>NO</td>\n",
       "      <td>5070</td>\n",
       "      <td>780</td>\n",
       "      <td>780</td>\n",
       "      <td>3510</td>\n",
       "      <td>2007</td>\n",
       "    </tr>\n",
       "    <tr>\n",
       "      <th>2</th>\n",
       "      <td>134</td>\n",
       "      <td>29</td>\n",
       "      <td>687698</td>\n",
       "      <td>2000-09-06</td>\n",
       "      <td>OH</td>\n",
       "      <td>100</td>\n",
       "      <td>300</td>\n",
       "      <td>2000</td>\n",
       "      <td>1413.14</td>\n",
       "      <td>5000000</td>\n",
       "      <td>...</td>\n",
       "      <td>3</td>\n",
       "      <td>NO</td>\n",
       "      <td>2</td>\n",
       "      <td>3</td>\n",
       "      <td>NO</td>\n",
       "      <td>34650</td>\n",
       "      <td>7700</td>\n",
       "      <td>3850</td>\n",
       "      <td>23100</td>\n",
       "      <td>2007</td>\n",
       "    </tr>\n",
       "    <tr>\n",
       "      <th>3</th>\n",
       "      <td>256</td>\n",
       "      <td>41</td>\n",
       "      <td>227811</td>\n",
       "      <td>1990-05-25</td>\n",
       "      <td>IL</td>\n",
       "      <td>250</td>\n",
       "      <td>500</td>\n",
       "      <td>2000</td>\n",
       "      <td>1415.74</td>\n",
       "      <td>6000000</td>\n",
       "      <td>...</td>\n",
       "      <td>1</td>\n",
       "      <td>NO</td>\n",
       "      <td>1</td>\n",
       "      <td>2</td>\n",
       "      <td>NO</td>\n",
       "      <td>63400</td>\n",
       "      <td>6340</td>\n",
       "      <td>6340</td>\n",
       "      <td>50720</td>\n",
       "      <td>2014</td>\n",
       "    </tr>\n",
       "    <tr>\n",
       "      <th>12</th>\n",
       "      <td>60</td>\n",
       "      <td>23</td>\n",
       "      <td>842643</td>\n",
       "      <td>1997-11-20</td>\n",
       "      <td>OH</td>\n",
       "      <td>500</td>\n",
       "      <td>1000</td>\n",
       "      <td>500</td>\n",
       "      <td>1215.36</td>\n",
       "      <td>3000000</td>\n",
       "      <td>...</td>\n",
       "      <td>1</td>\n",
       "      <td>YES</td>\n",
       "      <td>1</td>\n",
       "      <td>0</td>\n",
       "      <td>NO</td>\n",
       "      <td>56520</td>\n",
       "      <td>4710</td>\n",
       "      <td>9420</td>\n",
       "      <td>42390</td>\n",
       "      <td>2000</td>\n",
       "    </tr>\n",
       "    <tr>\n",
       "      <th>13</th>\n",
       "      <td>121</td>\n",
       "      <td>34</td>\n",
       "      <td>626808</td>\n",
       "      <td>2012-10-26</td>\n",
       "      <td>OH</td>\n",
       "      <td>100</td>\n",
       "      <td>300</td>\n",
       "      <td>1000</td>\n",
       "      <td>936.61</td>\n",
       "      <td>0</td>\n",
       "      <td>...</td>\n",
       "      <td>1</td>\n",
       "      <td>NO</td>\n",
       "      <td>1</td>\n",
       "      <td>1</td>\n",
       "      <td>NO</td>\n",
       "      <td>7280</td>\n",
       "      <td>1120</td>\n",
       "      <td>1120</td>\n",
       "      <td>5040</td>\n",
       "      <td>2010</td>\n",
       "    </tr>\n",
       "  </tbody>\n",
       "</table>\n",
       "<p>5 rows × 32 columns</p>\n",
       "</div>"
      ],
      "text/plain": [
       "    months_as_customer  age  policy_number policy_initial_date policy_state  \\\n",
       "1                  228   42         342868          2006-06-27           IN   \n",
       "2                  134   29         687698          2000-09-06           OH   \n",
       "3                  256   41         227811          1990-05-25           IL   \n",
       "12                  60   23         842643          1997-11-20           OH   \n",
       "13                 121   34         626808          2012-10-26           OH   \n",
       "\n",
       "    limit/person  limit_accident  policy_deductable  policy_annual_premium  \\\n",
       "1            250             500               2000                1197.22   \n",
       "2            100             300               2000                1413.14   \n",
       "3            250             500               2000                1415.74   \n",
       "12           500            1000                500                1215.36   \n",
       "13           100             300               1000                 936.61   \n",
       "\n",
       "    umbrella_limit  ...  number_of_vehicles_involved property_damage  \\\n",
       "1          5000000  ...                            1              NO   \n",
       "2          5000000  ...                            3              NO   \n",
       "3          6000000  ...                            1              NO   \n",
       "12         3000000  ...                            1             YES   \n",
       "13               0  ...                            1              NO   \n",
       "\n",
       "   bodily_injuries witnesses  police_report_available  total_claim_amount  \\\n",
       "1                0         0                       NO                5070   \n",
       "2                2         3                       NO               34650   \n",
       "3                1         2                       NO               63400   \n",
       "12               1         0                       NO               56520   \n",
       "13               1         1                       NO                7280   \n",
       "\n",
       "   injury_claim property_claim vehicle_claim auto_year  \n",
       "1           780            780          3510      2007  \n",
       "2          7700           3850         23100      2007  \n",
       "3          6340           6340         50720      2014  \n",
       "12         4710           9420         42390      2000  \n",
       "13         1120           1120          5040      2010  \n",
       "\n",
       "[5 rows x 32 columns]"
      ]
     },
     "execution_count": 9,
     "metadata": {},
     "output_type": "execute_result"
    }
   ],
   "source": [
    "x_train.head()"
   ]
  },
  {
   "cell_type": "markdown",
   "metadata": {},
   "source": [
    "Esto es útil para un modelo de aprendizaje automático que solo puede manejar datos numéricos, o cuando se desea realizar análisis estadístico que solo aplica a datos numéricos."
   ]
  },
  {
   "cell_type": "code",
   "execution_count": 10,
   "metadata": {},
   "outputs": [
    {
     "data": {
      "text/html": [
       "<div>\n",
       "<style scoped>\n",
       "    .dataframe tbody tr th:only-of-type {\n",
       "        vertical-align: middle;\n",
       "    }\n",
       "\n",
       "    .dataframe tbody tr th {\n",
       "        vertical-align: top;\n",
       "    }\n",
       "\n",
       "    .dataframe thead th {\n",
       "        text-align: right;\n",
       "    }\n",
       "</style>\n",
       "<table border=\"1\" class=\"dataframe\">\n",
       "  <thead>\n",
       "    <tr style=\"text-align: right;\">\n",
       "      <th></th>\n",
       "      <th>months_as_customer</th>\n",
       "      <th>age</th>\n",
       "      <th>policy_number</th>\n",
       "      <th>limit/person</th>\n",
       "      <th>limit_accident</th>\n",
       "      <th>policy_deductable</th>\n",
       "      <th>policy_annual_premium</th>\n",
       "      <th>umbrella_limit</th>\n",
       "      <th>insured_zip_code</th>\n",
       "      <th>capital-gains</th>\n",
       "      <th>capital-loss</th>\n",
       "      <th>incident_hour_of_the_day</th>\n",
       "      <th>number_of_vehicles_involved</th>\n",
       "      <th>bodily_injuries</th>\n",
       "      <th>witnesses</th>\n",
       "      <th>total_claim_amount</th>\n",
       "      <th>injury_claim</th>\n",
       "      <th>property_claim</th>\n",
       "      <th>vehicle_claim</th>\n",
       "      <th>auto_year</th>\n",
       "    </tr>\n",
       "  </thead>\n",
       "  <tbody>\n",
       "    <tr>\n",
       "      <th>1</th>\n",
       "      <td>228</td>\n",
       "      <td>42</td>\n",
       "      <td>342868</td>\n",
       "      <td>250</td>\n",
       "      <td>500</td>\n",
       "      <td>2000</td>\n",
       "      <td>1197.22</td>\n",
       "      <td>5000000</td>\n",
       "      <td>468176</td>\n",
       "      <td>0</td>\n",
       "      <td>0</td>\n",
       "      <td>8</td>\n",
       "      <td>1</td>\n",
       "      <td>0</td>\n",
       "      <td>0</td>\n",
       "      <td>5070</td>\n",
       "      <td>780</td>\n",
       "      <td>780</td>\n",
       "      <td>3510</td>\n",
       "      <td>2007</td>\n",
       "    </tr>\n",
       "    <tr>\n",
       "      <th>2</th>\n",
       "      <td>134</td>\n",
       "      <td>29</td>\n",
       "      <td>687698</td>\n",
       "      <td>100</td>\n",
       "      <td>300</td>\n",
       "      <td>2000</td>\n",
       "      <td>1413.14</td>\n",
       "      <td>5000000</td>\n",
       "      <td>430632</td>\n",
       "      <td>35100</td>\n",
       "      <td>0</td>\n",
       "      <td>7</td>\n",
       "      <td>3</td>\n",
       "      <td>2</td>\n",
       "      <td>3</td>\n",
       "      <td>34650</td>\n",
       "      <td>7700</td>\n",
       "      <td>3850</td>\n",
       "      <td>23100</td>\n",
       "      <td>2007</td>\n",
       "    </tr>\n",
       "    <tr>\n",
       "      <th>3</th>\n",
       "      <td>256</td>\n",
       "      <td>41</td>\n",
       "      <td>227811</td>\n",
       "      <td>250</td>\n",
       "      <td>500</td>\n",
       "      <td>2000</td>\n",
       "      <td>1415.74</td>\n",
       "      <td>6000000</td>\n",
       "      <td>608117</td>\n",
       "      <td>48900</td>\n",
       "      <td>-62400</td>\n",
       "      <td>5</td>\n",
       "      <td>1</td>\n",
       "      <td>1</td>\n",
       "      <td>2</td>\n",
       "      <td>63400</td>\n",
       "      <td>6340</td>\n",
       "      <td>6340</td>\n",
       "      <td>50720</td>\n",
       "      <td>2014</td>\n",
       "    </tr>\n",
       "    <tr>\n",
       "      <th>12</th>\n",
       "      <td>60</td>\n",
       "      <td>23</td>\n",
       "      <td>842643</td>\n",
       "      <td>500</td>\n",
       "      <td>1000</td>\n",
       "      <td>500</td>\n",
       "      <td>1215.36</td>\n",
       "      <td>3000000</td>\n",
       "      <td>432220</td>\n",
       "      <td>0</td>\n",
       "      <td>0</td>\n",
       "      <td>9</td>\n",
       "      <td>1</td>\n",
       "      <td>1</td>\n",
       "      <td>0</td>\n",
       "      <td>56520</td>\n",
       "      <td>4710</td>\n",
       "      <td>9420</td>\n",
       "      <td>42390</td>\n",
       "      <td>2000</td>\n",
       "    </tr>\n",
       "    <tr>\n",
       "      <th>13</th>\n",
       "      <td>121</td>\n",
       "      <td>34</td>\n",
       "      <td>626808</td>\n",
       "      <td>100</td>\n",
       "      <td>300</td>\n",
       "      <td>1000</td>\n",
       "      <td>936.61</td>\n",
       "      <td>0</td>\n",
       "      <td>464652</td>\n",
       "      <td>52800</td>\n",
       "      <td>-32800</td>\n",
       "      <td>5</td>\n",
       "      <td>1</td>\n",
       "      <td>1</td>\n",
       "      <td>1</td>\n",
       "      <td>7280</td>\n",
       "      <td>1120</td>\n",
       "      <td>1120</td>\n",
       "      <td>5040</td>\n",
       "      <td>2010</td>\n",
       "    </tr>\n",
       "  </tbody>\n",
       "</table>\n",
       "</div>"
      ],
      "text/plain": [
       "    months_as_customer  age  policy_number  limit/person  limit_accident  \\\n",
       "1                  228   42         342868           250             500   \n",
       "2                  134   29         687698           100             300   \n",
       "3                  256   41         227811           250             500   \n",
       "12                  60   23         842643           500            1000   \n",
       "13                 121   34         626808           100             300   \n",
       "\n",
       "    policy_deductable  policy_annual_premium  umbrella_limit  \\\n",
       "1                2000                1197.22         5000000   \n",
       "2                2000                1413.14         5000000   \n",
       "3                2000                1415.74         6000000   \n",
       "12                500                1215.36         3000000   \n",
       "13               1000                 936.61               0   \n",
       "\n",
       "    insured_zip_code  capital-gains  capital-loss  incident_hour_of_the_day  \\\n",
       "1             468176              0             0                         8   \n",
       "2             430632          35100             0                         7   \n",
       "3             608117          48900        -62400                         5   \n",
       "12            432220              0             0                         9   \n",
       "13            464652          52800        -32800                         5   \n",
       "\n",
       "    number_of_vehicles_involved  bodily_injuries  witnesses  \\\n",
       "1                             1                0          0   \n",
       "2                             3                2          3   \n",
       "3                             1                1          2   \n",
       "12                            1                1          0   \n",
       "13                            1                1          1   \n",
       "\n",
       "    total_claim_amount  injury_claim  property_claim  vehicle_claim  auto_year  \n",
       "1                 5070           780             780           3510       2007  \n",
       "2                34650          7700            3850          23100       2007  \n",
       "3                63400          6340            6340          50720       2014  \n",
       "12               56520          4710            9420          42390       2000  \n",
       "13                7280          1120            1120           5040       2010  "
      ]
     },
     "execution_count": 10,
     "metadata": {},
     "output_type": "execute_result"
    }
   ],
   "source": [
    "numeric_df = x_train.select_dtypes(include=['number'])\n",
    "numeric_test_df = x_test.select_dtypes(include=['number'])\n",
    "numeric_df.head()"
   ]
  },
  {
   "cell_type": "code",
   "execution_count": 11,
   "metadata": {},
   "outputs": [
    {
     "data": {
      "text/html": [
       "<div>\n",
       "<style scoped>\n",
       "    .dataframe tbody tr th:only-of-type {\n",
       "        vertical-align: middle;\n",
       "    }\n",
       "\n",
       "    .dataframe tbody tr th {\n",
       "        vertical-align: top;\n",
       "    }\n",
       "\n",
       "    .dataframe thead th {\n",
       "        text-align: right;\n",
       "    }\n",
       "</style>\n",
       "<table border=\"1\" class=\"dataframe\">\n",
       "  <thead>\n",
       "    <tr style=\"text-align: right;\">\n",
       "      <th></th>\n",
       "      <th>policy_state</th>\n",
       "      <th>insured_sex</th>\n",
       "      <th>insured_education_level</th>\n",
       "      <th>insured_occupation</th>\n",
       "      <th>incident_type</th>\n",
       "      <th>incident_severity</th>\n",
       "      <th>authorities_contacted</th>\n",
       "      <th>incident_state</th>\n",
       "      <th>property_damage</th>\n",
       "      <th>police_report_available</th>\n",
       "    </tr>\n",
       "  </thead>\n",
       "  <tbody>\n",
       "    <tr>\n",
       "      <th>1</th>\n",
       "      <td>IN</td>\n",
       "      <td>MALE</td>\n",
       "      <td>MD</td>\n",
       "      <td>machine-op-inspct</td>\n",
       "      <td>Vehicle Theft</td>\n",
       "      <td>Minor Damage</td>\n",
       "      <td>Police</td>\n",
       "      <td>VA</td>\n",
       "      <td>NO</td>\n",
       "      <td>NO</td>\n",
       "    </tr>\n",
       "    <tr>\n",
       "      <th>2</th>\n",
       "      <td>OH</td>\n",
       "      <td>FEMALE</td>\n",
       "      <td>PhD</td>\n",
       "      <td>sales</td>\n",
       "      <td>Multi-vehicle Collision</td>\n",
       "      <td>Minor Damage</td>\n",
       "      <td>Police</td>\n",
       "      <td>NY</td>\n",
       "      <td>NO</td>\n",
       "      <td>NO</td>\n",
       "    </tr>\n",
       "    <tr>\n",
       "      <th>3</th>\n",
       "      <td>IL</td>\n",
       "      <td>FEMALE</td>\n",
       "      <td>PhD</td>\n",
       "      <td>armed-forces</td>\n",
       "      <td>Single Vehicle Collision</td>\n",
       "      <td>Major Damage</td>\n",
       "      <td>Police</td>\n",
       "      <td>OH</td>\n",
       "      <td>NO</td>\n",
       "      <td>NO</td>\n",
       "    </tr>\n",
       "    <tr>\n",
       "      <th>12</th>\n",
       "      <td>OH</td>\n",
       "      <td>MALE</td>\n",
       "      <td>MD</td>\n",
       "      <td>protective-serv</td>\n",
       "      <td>Single Vehicle Collision</td>\n",
       "      <td>Total Loss</td>\n",
       "      <td>Ambulance</td>\n",
       "      <td>SC</td>\n",
       "      <td>YES</td>\n",
       "      <td>NO</td>\n",
       "    </tr>\n",
       "    <tr>\n",
       "      <th>13</th>\n",
       "      <td>OH</td>\n",
       "      <td>FEMALE</td>\n",
       "      <td>MD</td>\n",
       "      <td>armed-forces</td>\n",
       "      <td>Parked Car</td>\n",
       "      <td>Minor Damage</td>\n",
       "      <td>None</td>\n",
       "      <td>SC</td>\n",
       "      <td>NO</td>\n",
       "      <td>NO</td>\n",
       "    </tr>\n",
       "    <tr>\n",
       "      <th>...</th>\n",
       "      <td>...</td>\n",
       "      <td>...</td>\n",
       "      <td>...</td>\n",
       "      <td>...</td>\n",
       "      <td>...</td>\n",
       "      <td>...</td>\n",
       "      <td>...</td>\n",
       "      <td>...</td>\n",
       "      <td>...</td>\n",
       "      <td>...</td>\n",
       "    </tr>\n",
       "    <tr>\n",
       "      <th>991</th>\n",
       "      <td>OH</td>\n",
       "      <td>MALE</td>\n",
       "      <td>MD</td>\n",
       "      <td>other-service</td>\n",
       "      <td>Single Vehicle Collision</td>\n",
       "      <td>Total Loss</td>\n",
       "      <td>Other</td>\n",
       "      <td>WV</td>\n",
       "      <td>NO</td>\n",
       "      <td>NO</td>\n",
       "    </tr>\n",
       "    <tr>\n",
       "      <th>992</th>\n",
       "      <td>IN</td>\n",
       "      <td>MALE</td>\n",
       "      <td>MD</td>\n",
       "      <td>exec-managerial</td>\n",
       "      <td>Multi-vehicle Collision</td>\n",
       "      <td>Major Damage</td>\n",
       "      <td>Fire</td>\n",
       "      <td>OH</td>\n",
       "      <td>YES</td>\n",
       "      <td>YES</td>\n",
       "    </tr>\n",
       "    <tr>\n",
       "      <th>995</th>\n",
       "      <td>OH</td>\n",
       "      <td>FEMALE</td>\n",
       "      <td>Masters</td>\n",
       "      <td>craft-repair</td>\n",
       "      <td>Single Vehicle Collision</td>\n",
       "      <td>Minor Damage</td>\n",
       "      <td>Fire</td>\n",
       "      <td>NC</td>\n",
       "      <td>YES</td>\n",
       "      <td>NO</td>\n",
       "    </tr>\n",
       "    <tr>\n",
       "      <th>998</th>\n",
       "      <td>IL</td>\n",
       "      <td>MALE</td>\n",
       "      <td>Associate</td>\n",
       "      <td>handlers-cleaners</td>\n",
       "      <td>Single Vehicle Collision</td>\n",
       "      <td>Major Damage</td>\n",
       "      <td>Other</td>\n",
       "      <td>NY</td>\n",
       "      <td>NO</td>\n",
       "      <td>YES</td>\n",
       "    </tr>\n",
       "    <tr>\n",
       "      <th>999</th>\n",
       "      <td>OH</td>\n",
       "      <td>FEMALE</td>\n",
       "      <td>Associate</td>\n",
       "      <td>sales</td>\n",
       "      <td>Parked Car</td>\n",
       "      <td>Minor Damage</td>\n",
       "      <td>Police</td>\n",
       "      <td>WV</td>\n",
       "      <td>NO</td>\n",
       "      <td>NO</td>\n",
       "    </tr>\n",
       "  </tbody>\n",
       "</table>\n",
       "<p>494 rows × 10 columns</p>\n",
       "</div>"
      ],
      "text/plain": [
       "    policy_state insured_sex insured_education_level insured_occupation  \\\n",
       "1             IN        MALE                      MD  machine-op-inspct   \n",
       "2             OH      FEMALE                     PhD              sales   \n",
       "3             IL      FEMALE                     PhD       armed-forces   \n",
       "12            OH        MALE                      MD    protective-serv   \n",
       "13            OH      FEMALE                      MD       armed-forces   \n",
       "..           ...         ...                     ...                ...   \n",
       "991           OH        MALE                      MD      other-service   \n",
       "992           IN        MALE                      MD    exec-managerial   \n",
       "995           OH      FEMALE                 Masters       craft-repair   \n",
       "998           IL        MALE               Associate  handlers-cleaners   \n",
       "999           OH      FEMALE               Associate              sales   \n",
       "\n",
       "                incident_type incident_severity authorities_contacted  \\\n",
       "1               Vehicle Theft      Minor Damage                Police   \n",
       "2     Multi-vehicle Collision      Minor Damage                Police   \n",
       "3    Single Vehicle Collision      Major Damage                Police   \n",
       "12   Single Vehicle Collision        Total Loss             Ambulance   \n",
       "13                 Parked Car      Minor Damage                  None   \n",
       "..                        ...               ...                   ...   \n",
       "991  Single Vehicle Collision        Total Loss                 Other   \n",
       "992   Multi-vehicle Collision      Major Damage                  Fire   \n",
       "995  Single Vehicle Collision      Minor Damage                  Fire   \n",
       "998  Single Vehicle Collision      Major Damage                 Other   \n",
       "999                Parked Car      Minor Damage                Police   \n",
       "\n",
       "    incident_state property_damage police_report_available  \n",
       "1               VA              NO                      NO  \n",
       "2               NY              NO                      NO  \n",
       "3               OH              NO                      NO  \n",
       "12              SC             YES                      NO  \n",
       "13              SC              NO                      NO  \n",
       "..             ...             ...                     ...  \n",
       "991             WV              NO                      NO  \n",
       "992             OH             YES                     YES  \n",
       "995             NC             YES                      NO  \n",
       "998             NY              NO                     YES  \n",
       "999             WV              NO                      NO  \n",
       "\n",
       "[494 rows x 10 columns]"
      ]
     },
     "execution_count": 11,
     "metadata": {},
     "output_type": "execute_result"
    }
   ],
   "source": [
    "categorical_df = x_train.select_dtypes(include=['object'])\n",
    "categorical_test_df = x_test.select_dtypes(include=['object'])\n",
    "categorical_df"
   ]
  },
  {
   "cell_type": "markdown",
   "metadata": {},
   "source": [
    "De forma similar a lo hecho con las variables numéricas, aquí seleccionas solo las columnas categóricas de x_train y x_test, creando categorical_df y categorical_test_df, respectivamente. "
   ]
  },
  {
   "cell_type": "code",
   "execution_count": 12,
   "metadata": {},
   "outputs": [],
   "source": [
    "from sklearn.compose import ColumnTransformer\n",
    "from sklearn.preprocessing import StandardScaler, OneHotEncoder"
   ]
  },
  {
   "cell_type": "code",
   "execution_count": 13,
   "metadata": {},
   "outputs": [],
   "source": [
    "scaler = StandardScaler()\n",
    "scaler.fit(numeric_df)\n",
    "\n",
    "# Transform numeric features\n",
    "X_train_numeric_processed = scaler.transform(numeric_df)\n",
    "X_test_numeric_processed = scaler.transform(numeric_test_df)"
   ]
  },
  {
   "cell_type": "markdown",
   "metadata": {},
   "source": [
    "Estamos utilizando StandardScaler de sklearn.preprocessing para estandarizar las características numéricas de tu conjunto de datos. "
   ]
  },
  {
   "cell_type": "markdown",
   "metadata": {},
   "source": [
    "Con fit, calculas la media y la desviación estándar de cada característica numérica en el conjunto de datos de entrenamiento (numeric_df). Esta información se utiliza para transformar los datos (tanto de entrenamiento como de prueba) de manera que cada característica se estandarice. Es importante ajustar el escalador solo a los datos de entrenamiento para evitar el \"data leakage\" (fuga de información) del conjunto de prueba."
   ]
  },
  {
   "cell_type": "markdown",
   "metadata": {},
   "source": [
    "Nos sirve la transformación para regresiones logísticas"
   ]
  },
  {
   "cell_type": "code",
   "execution_count": 14,
   "metadata": {},
   "outputs": [],
   "source": [
    "encoder= OneHotEncoder()\n",
    "encoder.fit(categorical_df)\n",
    "\n",
    "X_train_categorical_processed = encoder.transform(categorical_df).toarray()\n",
    "X_test_categorical_processed = encoder.transform(categorical_test_df).toarray()\n"
   ]
  },
  {
   "cell_type": "markdown",
   "metadata": {},
   "source": [
    "El método fit calcula los parámetros necesarios para la estandarización (media y desviación estándar) para cada característica. Este ajuste se hace solo con los datos de entrenamiento para evitar el sesgo en el modelo."
   ]
  },
  {
   "cell_type": "code",
   "execution_count": 15,
   "metadata": {},
   "outputs": [],
   "source": [
    "X_train_processed = np.concatenate((X_train_numeric_processed, X_train_categorical_processed), axis=1)\n",
    "X_test_processed = np.concatenate((X_test_numeric_processed, X_test_categorical_processed), axis=1)"
   ]
  },
  {
   "cell_type": "code",
   "execution_count": 16,
   "metadata": {},
   "outputs": [
    {
     "data": {
      "text/plain": [
       "array([[ 1.09434431,  1.00363048, -0.05836942, ...,  1.        ,\n",
       "         0.        ,  1.        ],\n",
       "       [ 0.22230055,  0.57166058, -0.64828307, ...,  0.        ,\n",
       "         1.        ,  0.        ],\n",
       "       [ 0.4664728 ,  0.0316982 , -1.65435125, ...,  0.        ,\n",
       "         1.        ,  0.        ],\n",
       "       ...,\n",
       "       [-0.53637752, -0.94023409,  0.55363201, ...,  0.        ,\n",
       "         0.        ,  1.        ],\n",
       "       [ 0.71936549,  0.24768315, -1.33920502, ...,  1.        ,\n",
       "         1.        ,  0.        ],\n",
       "       [-0.63230234, -0.50826418,  1.46083522, ...,  0.        ,\n",
       "         0.        ,  1.        ]])"
      ]
     },
     "execution_count": 16,
     "metadata": {},
     "output_type": "execute_result"
    }
   ],
   "source": [
    "X_test_processed"
   ]
  },
  {
   "cell_type": "code",
   "execution_count": 17,
   "metadata": {},
   "outputs": [
    {
     "data": {
      "text/html": [
       "<div>\n",
       "<style scoped>\n",
       "    .dataframe tbody tr th:only-of-type {\n",
       "        vertical-align: middle;\n",
       "    }\n",
       "\n",
       "    .dataframe tbody tr th {\n",
       "        vertical-align: top;\n",
       "    }\n",
       "\n",
       "    .dataframe thead th {\n",
       "        text-align: right;\n",
       "    }\n",
       "</style>\n",
       "<table border=\"1\" class=\"dataframe\">\n",
       "  <thead>\n",
       "    <tr style=\"text-align: right;\">\n",
       "      <th></th>\n",
       "      <th>0</th>\n",
       "      <th>1</th>\n",
       "      <th>2</th>\n",
       "      <th>3</th>\n",
       "      <th>4</th>\n",
       "      <th>5</th>\n",
       "      <th>6</th>\n",
       "      <th>7</th>\n",
       "      <th>8</th>\n",
       "      <th>9</th>\n",
       "      <th>...</th>\n",
       "      <th>60</th>\n",
       "      <th>61</th>\n",
       "      <th>62</th>\n",
       "      <th>63</th>\n",
       "      <th>64</th>\n",
       "      <th>65</th>\n",
       "      <th>66</th>\n",
       "      <th>67</th>\n",
       "      <th>68</th>\n",
       "      <th>69</th>\n",
       "    </tr>\n",
       "  </thead>\n",
       "  <tbody>\n",
       "    <tr>\n",
       "      <th>0</th>\n",
       "      <td>1.094344</td>\n",
       "      <td>1.003630</td>\n",
       "      <td>-0.058369</td>\n",
       "      <td>-0.152141</td>\n",
       "      <td>-0.293080</td>\n",
       "      <td>-0.232773</td>\n",
       "      <td>0.674134</td>\n",
       "      <td>-0.467292</td>\n",
       "      <td>-0.492574</td>\n",
       "      <td>0.981601</td>\n",
       "      <td>...</td>\n",
       "      <td>0.0</td>\n",
       "      <td>0.0</td>\n",
       "      <td>0.0</td>\n",
       "      <td>1.0</td>\n",
       "      <td>0.0</td>\n",
       "      <td>0.0</td>\n",
       "      <td>0.0</td>\n",
       "      <td>1.0</td>\n",
       "      <td>0.0</td>\n",
       "      <td>1.0</td>\n",
       "    </tr>\n",
       "    <tr>\n",
       "      <th>1</th>\n",
       "      <td>0.222301</td>\n",
       "      <td>0.571661</td>\n",
       "      <td>-0.648283</td>\n",
       "      <td>1.369268</td>\n",
       "      <td>1.418284</td>\n",
       "      <td>-0.232773</td>\n",
       "      <td>1.400945</td>\n",
       "      <td>2.227365</td>\n",
       "      <td>1.528676</td>\n",
       "      <td>1.437230</td>\n",
       "      <td>...</td>\n",
       "      <td>1.0</td>\n",
       "      <td>0.0</td>\n",
       "      <td>0.0</td>\n",
       "      <td>0.0</td>\n",
       "      <td>0.0</td>\n",
       "      <td>0.0</td>\n",
       "      <td>1.0</td>\n",
       "      <td>0.0</td>\n",
       "      <td>1.0</td>\n",
       "      <td>0.0</td>\n",
       "    </tr>\n",
       "    <tr>\n",
       "      <th>2</th>\n",
       "      <td>0.466473</td>\n",
       "      <td>0.031698</td>\n",
       "      <td>-1.654351</td>\n",
       "      <td>-0.152141</td>\n",
       "      <td>-0.293080</td>\n",
       "      <td>-0.232773</td>\n",
       "      <td>0.444962</td>\n",
       "      <td>-0.467292</td>\n",
       "      <td>-0.320275</td>\n",
       "      <td>-0.930605</td>\n",
       "      <td>...</td>\n",
       "      <td>0.0</td>\n",
       "      <td>0.0</td>\n",
       "      <td>0.0</td>\n",
       "      <td>1.0</td>\n",
       "      <td>0.0</td>\n",
       "      <td>0.0</td>\n",
       "      <td>1.0</td>\n",
       "      <td>0.0</td>\n",
       "      <td>1.0</td>\n",
       "      <td>0.0</td>\n",
       "    </tr>\n",
       "    <tr>\n",
       "      <th>3</th>\n",
       "      <td>-0.571259</td>\n",
       "      <td>-0.508264</td>\n",
       "      <td>-0.470222</td>\n",
       "      <td>-0.152141</td>\n",
       "      <td>-0.293080</td>\n",
       "      <td>-0.232773</td>\n",
       "      <td>0.372076</td>\n",
       "      <td>-0.467292</td>\n",
       "      <td>-0.833927</td>\n",
       "      <td>-0.930605</td>\n",
       "      <td>...</td>\n",
       "      <td>1.0</td>\n",
       "      <td>0.0</td>\n",
       "      <td>0.0</td>\n",
       "      <td>0.0</td>\n",
       "      <td>0.0</td>\n",
       "      <td>0.0</td>\n",
       "      <td>1.0</td>\n",
       "      <td>0.0</td>\n",
       "      <td>1.0</td>\n",
       "      <td>0.0</td>\n",
       "    </tr>\n",
       "    <tr>\n",
       "      <th>4</th>\n",
       "      <td>-0.327087</td>\n",
       "      <td>-0.184287</td>\n",
       "      <td>-0.412624</td>\n",
       "      <td>-1.064986</td>\n",
       "      <td>-0.977625</td>\n",
       "      <td>-0.232773</td>\n",
       "      <td>-0.434069</td>\n",
       "      <td>-0.467292</td>\n",
       "      <td>1.423667</td>\n",
       "      <td>-0.930605</td>\n",
       "      <td>...</td>\n",
       "      <td>0.0</td>\n",
       "      <td>0.0</td>\n",
       "      <td>0.0</td>\n",
       "      <td>0.0</td>\n",
       "      <td>1.0</td>\n",
       "      <td>0.0</td>\n",
       "      <td>1.0</td>\n",
       "      <td>0.0</td>\n",
       "      <td>0.0</td>\n",
       "      <td>1.0</td>\n",
       "    </tr>\n",
       "    <tr>\n",
       "      <th>...</th>\n",
       "      <td>...</td>\n",
       "      <td>...</td>\n",
       "      <td>...</td>\n",
       "      <td>...</td>\n",
       "      <td>...</td>\n",
       "      <td>...</td>\n",
       "      <td>...</td>\n",
       "      <td>...</td>\n",
       "      <td>...</td>\n",
       "      <td>...</td>\n",
       "      <td>...</td>\n",
       "      <td>...</td>\n",
       "      <td>...</td>\n",
       "      <td>...</td>\n",
       "      <td>...</td>\n",
       "      <td>...</td>\n",
       "      <td>...</td>\n",
       "      <td>...</td>\n",
       "      <td>...</td>\n",
       "      <td>...</td>\n",
       "      <td>...</td>\n",
       "    </tr>\n",
       "    <tr>\n",
       "      <th>501</th>\n",
       "      <td>0.806570</td>\n",
       "      <td>0.787646</td>\n",
       "      <td>0.208338</td>\n",
       "      <td>-1.064986</td>\n",
       "      <td>-0.977625</td>\n",
       "      <td>-1.048304</td>\n",
       "      <td>1.766281</td>\n",
       "      <td>-0.467292</td>\n",
       "      <td>-0.313411</td>\n",
       "      <td>-0.930605</td>\n",
       "      <td>...</td>\n",
       "      <td>1.0</td>\n",
       "      <td>0.0</td>\n",
       "      <td>0.0</td>\n",
       "      <td>0.0</td>\n",
       "      <td>0.0</td>\n",
       "      <td>0.0</td>\n",
       "      <td>0.0</td>\n",
       "      <td>1.0</td>\n",
       "      <td>1.0</td>\n",
       "      <td>0.0</td>\n",
       "    </tr>\n",
       "    <tr>\n",
       "      <th>502</th>\n",
       "      <td>-0.684625</td>\n",
       "      <td>-1.156219</td>\n",
       "      <td>0.527162</td>\n",
       "      <td>-0.152141</td>\n",
       "      <td>-0.293080</td>\n",
       "      <td>-0.232773</td>\n",
       "      <td>-0.031202</td>\n",
       "      <td>-0.467292</td>\n",
       "      <td>-0.808049</td>\n",
       "      <td>-0.930605</td>\n",
       "      <td>...</td>\n",
       "      <td>0.0</td>\n",
       "      <td>1.0</td>\n",
       "      <td>0.0</td>\n",
       "      <td>0.0</td>\n",
       "      <td>0.0</td>\n",
       "      <td>0.0</td>\n",
       "      <td>1.0</td>\n",
       "      <td>0.0</td>\n",
       "      <td>1.0</td>\n",
       "      <td>0.0</td>\n",
       "    </tr>\n",
       "    <tr>\n",
       "      <th>503</th>\n",
       "      <td>-0.536378</td>\n",
       "      <td>-0.940234</td>\n",
       "      <td>0.553632</td>\n",
       "      <td>1.369268</td>\n",
       "      <td>1.418284</td>\n",
       "      <td>-0.232773</td>\n",
       "      <td>0.428291</td>\n",
       "      <td>-0.467292</td>\n",
       "      <td>-0.988428</td>\n",
       "      <td>-0.930605</td>\n",
       "      <td>...</td>\n",
       "      <td>0.0</td>\n",
       "      <td>0.0</td>\n",
       "      <td>0.0</td>\n",
       "      <td>1.0</td>\n",
       "      <td>0.0</td>\n",
       "      <td>0.0</td>\n",
       "      <td>1.0</td>\n",
       "      <td>0.0</td>\n",
       "      <td>0.0</td>\n",
       "      <td>1.0</td>\n",
       "    </tr>\n",
       "    <tr>\n",
       "      <th>504</th>\n",
       "      <td>0.719365</td>\n",
       "      <td>0.247683</td>\n",
       "      <td>-1.339205</td>\n",
       "      <td>-1.064986</td>\n",
       "      <td>-0.977625</td>\n",
       "      <td>-0.232773</td>\n",
       "      <td>0.796829</td>\n",
       "      <td>-0.467292</td>\n",
       "      <td>1.493319</td>\n",
       "      <td>1.613024</td>\n",
       "      <td>...</td>\n",
       "      <td>0.0</td>\n",
       "      <td>0.0</td>\n",
       "      <td>0.0</td>\n",
       "      <td>1.0</td>\n",
       "      <td>0.0</td>\n",
       "      <td>0.0</td>\n",
       "      <td>0.0</td>\n",
       "      <td>1.0</td>\n",
       "      <td>1.0</td>\n",
       "      <td>0.0</td>\n",
       "    </tr>\n",
       "    <tr>\n",
       "      <th>505</th>\n",
       "      <td>-0.632302</td>\n",
       "      <td>-0.508264</td>\n",
       "      <td>1.460835</td>\n",
       "      <td>-0.152141</td>\n",
       "      <td>-0.293080</td>\n",
       "      <td>-1.048304</td>\n",
       "      <td>0.577965</td>\n",
       "      <td>0.880036</td>\n",
       "      <td>-0.818814</td>\n",
       "      <td>0.328653</td>\n",
       "      <td>...</td>\n",
       "      <td>0.0</td>\n",
       "      <td>0.0</td>\n",
       "      <td>0.0</td>\n",
       "      <td>0.0</td>\n",
       "      <td>0.0</td>\n",
       "      <td>0.0</td>\n",
       "      <td>1.0</td>\n",
       "      <td>0.0</td>\n",
       "      <td>0.0</td>\n",
       "      <td>1.0</td>\n",
       "    </tr>\n",
       "  </tbody>\n",
       "</table>\n",
       "<p>506 rows × 70 columns</p>\n",
       "</div>"
      ],
      "text/plain": [
       "           0         1         2         3         4         5         6   \\\n",
       "0    1.094344  1.003630 -0.058369 -0.152141 -0.293080 -0.232773  0.674134   \n",
       "1    0.222301  0.571661 -0.648283  1.369268  1.418284 -0.232773  1.400945   \n",
       "2    0.466473  0.031698 -1.654351 -0.152141 -0.293080 -0.232773  0.444962   \n",
       "3   -0.571259 -0.508264 -0.470222 -0.152141 -0.293080 -0.232773  0.372076   \n",
       "4   -0.327087 -0.184287 -0.412624 -1.064986 -0.977625 -0.232773 -0.434069   \n",
       "..        ...       ...       ...       ...       ...       ...       ...   \n",
       "501  0.806570  0.787646  0.208338 -1.064986 -0.977625 -1.048304  1.766281   \n",
       "502 -0.684625 -1.156219  0.527162 -0.152141 -0.293080 -0.232773 -0.031202   \n",
       "503 -0.536378 -0.940234  0.553632  1.369268  1.418284 -0.232773  0.428291   \n",
       "504  0.719365  0.247683 -1.339205 -1.064986 -0.977625 -0.232773  0.796829   \n",
       "505 -0.632302 -0.508264  1.460835 -0.152141 -0.293080 -1.048304  0.577965   \n",
       "\n",
       "           7         8         9   ...   60   61   62   63   64   65   66  \\\n",
       "0   -0.467292 -0.492574  0.981601  ...  0.0  0.0  0.0  1.0  0.0  0.0  0.0   \n",
       "1    2.227365  1.528676  1.437230  ...  1.0  0.0  0.0  0.0  0.0  0.0  1.0   \n",
       "2   -0.467292 -0.320275 -0.930605  ...  0.0  0.0  0.0  1.0  0.0  0.0  1.0   \n",
       "3   -0.467292 -0.833927 -0.930605  ...  1.0  0.0  0.0  0.0  0.0  0.0  1.0   \n",
       "4   -0.467292  1.423667 -0.930605  ...  0.0  0.0  0.0  0.0  1.0  0.0  1.0   \n",
       "..        ...       ...       ...  ...  ...  ...  ...  ...  ...  ...  ...   \n",
       "501 -0.467292 -0.313411 -0.930605  ...  1.0  0.0  0.0  0.0  0.0  0.0  0.0   \n",
       "502 -0.467292 -0.808049 -0.930605  ...  0.0  1.0  0.0  0.0  0.0  0.0  1.0   \n",
       "503 -0.467292 -0.988428 -0.930605  ...  0.0  0.0  0.0  1.0  0.0  0.0  1.0   \n",
       "504 -0.467292  1.493319  1.613024  ...  0.0  0.0  0.0  1.0  0.0  0.0  0.0   \n",
       "505  0.880036 -0.818814  0.328653  ...  0.0  0.0  0.0  0.0  0.0  0.0  1.0   \n",
       "\n",
       "      67   68   69  \n",
       "0    1.0  0.0  1.0  \n",
       "1    0.0  1.0  0.0  \n",
       "2    0.0  1.0  0.0  \n",
       "3    0.0  1.0  0.0  \n",
       "4    0.0  0.0  1.0  \n",
       "..   ...  ...  ...  \n",
       "501  1.0  1.0  0.0  \n",
       "502  0.0  1.0  0.0  \n",
       "503  0.0  0.0  1.0  \n",
       "504  1.0  1.0  0.0  \n",
       "505  0.0  0.0  1.0  \n",
       "\n",
       "[506 rows x 70 columns]"
      ]
     },
     "execution_count": 17,
     "metadata": {},
     "output_type": "execute_result"
    }
   ],
   "source": [
    "\n",
    "X_test_processed = pd.DataFrame(X_test_processed)\n",
    "X_test_processed"
   ]
  },
  {
   "cell_type": "code",
   "execution_count": 18,
   "metadata": {},
   "outputs": [
    {
     "data": {
      "text/plain": [
       "1     1\n",
       "2     0\n",
       "3     1\n",
       "12    0\n",
       "13    0\n",
       "Name: fraud_reported, dtype: int64"
      ]
     },
     "execution_count": 18,
     "metadata": {},
     "output_type": "execute_result"
    }
   ],
   "source": [
    "y_train.head()"
   ]
  },
  {
   "cell_type": "code",
   "execution_count": 19,
   "metadata": {},
   "outputs": [
    {
     "data": {
      "text/plain": [
       "494"
      ]
     },
     "execution_count": 19,
     "metadata": {},
     "output_type": "execute_result"
    }
   ],
   "source": [
    "total_samples = len(y_train)\n",
    "total_samples"
   ]
  },
  {
   "cell_type": "code",
   "execution_count": 20,
   "metadata": {},
   "outputs": [
    {
     "data": {
      "text/plain": [
       "119"
      ]
     },
     "execution_count": 20,
     "metadata": {},
     "output_type": "execute_result"
    }
   ],
   "source": [
    "fraud_sample = sum(y_train)\n",
    "fraud_sample"
   ]
  },
  {
   "cell_type": "code",
   "execution_count": 21,
   "metadata": {},
   "outputs": [
    {
     "data": {
      "text/plain": [
       "375"
      ]
     },
     "execution_count": 21,
     "metadata": {},
     "output_type": "execute_result"
    }
   ],
   "source": [
    "non_fraud_sample = total_samples - fraud_sample\n",
    "non_fraud_sample"
   ]
  },
  {
   "cell_type": "code",
   "execution_count": 22,
   "metadata": {},
   "outputs": [
    {
     "data": {
      "text/plain": [
       "0.2408906882591093"
      ]
     },
     "execution_count": 22,
     "metadata": {},
     "output_type": "execute_result"
    }
   ],
   "source": [
    "sample_fraud = fraud_sample/total_samples\n",
    "sample_fraud"
   ]
  },
  {
   "cell_type": "code",
   "execution_count": 23,
   "metadata": {},
   "outputs": [
    {
     "data": {
      "text/plain": [
       "1.0538666666666667"
      ]
     },
     "execution_count": 23,
     "metadata": {},
     "output_type": "execute_result"
    }
   ],
   "source": [
    "0.8/(1-sample_fraud)"
   ]
  },
  {
   "cell_type": "code",
   "execution_count": 24,
   "metadata": {},
   "outputs": [
    {
     "data": {
      "text/plain": [
       "0.8302521008403362"
      ]
     },
     "execution_count": 24,
     "metadata": {},
     "output_type": "execute_result"
    }
   ],
   "source": [
    "desired_probability = 0.2\n",
    "weight_fraud = desired_probability/sample_fraud\n",
    "weight_fraud"
   ]
  },
  {
   "cell_type": "markdown",
   "metadata": {},
   "source": [
    "Estamos combinando (concatenando) las características numéricas procesadas y las características categóricas procesadas para tus conjuntos de datos de entrenamiento y prueba. Luego, conviertes el resultado en un DataFrame de pandas. Este es un paso importante en la preparación de los datos para el modelado, ya que reúnes todas las características transformadas en un solo conjunto de datos. Veamos cada línea en detalle"
   ]
  },
  {
   "cell_type": "markdown",
   "metadata": {},
   "source": [
    "## Linear Regression"
   ]
  },
  {
   "cell_type": "code",
   "execution_count": 25,
   "metadata": {},
   "outputs": [
    {
     "data": {
      "text/plain": [
       "LinearRegression()"
      ]
     },
     "execution_count": 25,
     "metadata": {},
     "output_type": "execute_result"
    }
   ],
   "source": [
    "from sklearn import linear_model\n",
    "ols=linear_model.LinearRegression()\n",
    "ols.fit(X_train_processed, y_train)"
   ]
  },
  {
   "cell_type": "code",
   "execution_count": 26,
   "metadata": {},
   "outputs": [
    {
     "data": {
      "text/plain": [
       "array([ 7.04844884e-02, -5.08938874e-02, -2.24828308e-03,  4.13384293e-01,\n",
       "       -4.06631814e-01,  2.04708734e-02,  7.01990619e-03,  3.39198209e-02,\n",
       "       -3.24489792e-04, -3.67238628e-03, -8.85373765e-03,  5.66054656e-03,\n",
       "        3.51116335e-02,  1.72325463e-02,  1.50887269e-02, -3.05572723e+12,\n",
       "        5.78096405e+11,  5.60659133e+11,  2.19229353e+12,  9.57849586e-03,\n",
       "        1.07141885e+12,  1.07141885e+12,  1.07141885e+12,  5.56481502e+11,\n",
       "        5.56481502e+11,  1.83605089e+11,  1.83605089e+11,  1.83605089e+11,\n",
       "        1.83605089e+11,  1.83605089e+11,  1.83605089e+11,  1.83605089e+11,\n",
       "        2.50298447e+10,  2.50298447e+10,  2.50298447e+10,  2.50298447e+10,\n",
       "        2.50298447e+10,  2.50298447e+10,  2.50298447e+10,  2.50298447e+10,\n",
       "        2.50298447e+10,  2.50298447e+10,  2.50298447e+10,  2.50298447e+10,\n",
       "        2.50298447e+10,  2.50298447e+10, -4.58714175e+11, -4.58714175e+11,\n",
       "       -4.58714175e+11, -4.58714175e+11,  6.09488169e+11,  6.09488169e+11,\n",
       "        6.09488169e+11,  6.09488169e+11,  1.60251926e+11,  1.60251926e+11,\n",
       "        1.60251926e+11,  1.60251926e+11,  1.60251926e+11, -1.51741909e+11,\n",
       "       -1.51741909e+11, -1.51741909e+11, -1.51741909e+11, -1.51741909e+11,\n",
       "       -1.51741909e+11, -1.51741909e+11,  6.19657641e+11,  6.19657641e+11,\n",
       "       -7.06159649e+11, -7.06159649e+11])"
      ]
     },
     "execution_count": 26,
     "metadata": {},
     "output_type": "execute_result"
    }
   ],
   "source": [
    "ols.fit(X_train_processed, y_train).coef_"
   ]
  },
  {
   "cell_type": "code",
   "execution_count": 27,
   "metadata": {},
   "outputs": [
    {
     "data": {
      "text/plain": [
       "array([ 1., -0.,  1.,  0., -0., -0.,  0.,  0.,  1.,  1.,  1.,  0.,  0.,\n",
       "        0.,  0., -0.,  0.,  0.,  0.,  0.,  1., -0.,  0., -0.,  1.,  1.,\n",
       "       -0.,  0.,  0.,  0.,  0.,  0.,  0.,  0.,  0.,  0.,  0.,  0.,  0.,\n",
       "       -0.,  1.,  0.,  0.,  0., -0.,  0.,  1.,  0.,  0.,  0.,  0.,  0.,\n",
       "        1.,  0.,  1.,  0.,  0.,  0.,  0.,  0.,  0.,  0.,  1.,  0.,  0.,\n",
       "        0.,  0.,  0.,  1.,  0.,  0.,  1.,  0.,  0.,  0.,  0.,  0.,  0.,\n",
       "        0.,  0.,  0.,  1., -0.,  0.,  0.,  0.,  0.,  0.,  0.,  0.,  0.,\n",
       "        0.,  0., -0., -0.,  0.,  1., -0., -0.,  0.,  0.,  0.,  0.,  0.,\n",
       "        0.,  0.,  0.,  0.,  0.,  1.,  0.,  0.,  0.,  0.,  0.,  0.,  0.,\n",
       "        0.,  0.,  0.,  0.,  0.,  0.,  1.,  1.,  0.,  0.,  0.,  1.,  1.,\n",
       "        0.,  1.,  0.,  0.,  1.,  0.,  1.,  0.,  0.,  0.,  0.,  0.,  0.,\n",
       "        0., -0.,  0.,  1.,  1.,  0.,  1.,  0.,  0.,  0., -0.,  0.,  0.,\n",
       "       -0.,  0.,  0., -0.,  0.,  0., -0.,  1.,  0.,  1.,  0.,  0.,  0.,\n",
       "        0.,  1.,  1., -0.,  0.,  1.,  1.,  1.,  0.,  0., -0.,  0.,  1.,\n",
       "        1.,  0.,  0.,  0.,  0.,  0.,  0.,  0., -0.,  0.,  1.,  1.,  0.,\n",
       "       -0.,  0.,  1.,  0.,  0.,  0., -0.,  0.,  0.,  0.,  0.,  0.,  0.,\n",
       "        0.,  1.,  0.,  0.,  0.,  1.,  1.,  0.,  0.,  0.,  0.,  0.,  0.,\n",
       "        1.,  0.,  0.,  0., -0.,  0.,  1.,  0.,  0.,  1.,  0.,  1.,  1.,\n",
       "        0.,  0., -0.,  0.,  0.,  1.,  1.,  0.,  0.,  0.,  0.,  0.,  0.,\n",
       "        1., -0.,  1.,  0.,  0.,  0.,  0.,  0.,  0.,  0.,  0.,  0.,  1.,\n",
       "        0.,  0.,  0.,  0.,  0.,  0.,  1.,  0.,  0.,  0.,  0.,  1.,  0.,\n",
       "        1.,  0.,  0.,  1.,  0.,  0.,  0.,  0.,  0., -0.,  0.,  1.,  0.,\n",
       "        0.,  0.,  1.,  0.,  0.,  0.,  0.,  0.,  0.,  0., -0.,  0.,  1.,\n",
       "        1.,  0.,  1.,  0.,  0., -0.,  0.,  0.,  0., -0., -0.,  0.,  1.,\n",
       "        0.,  0.,  1., -0.,  1.,  0.,  1., -0.,  0., -0.,  0., -0.,  0.,\n",
       "        0., -0.,  0.,  0.,  0.,  0.,  0.,  0.,  0.,  0.,  0.,  1.,  0.,\n",
       "        0.,  0.,  0., -0.,  0.,  0.,  0.,  0.,  0.,  0.,  0.,  0.,  1.,\n",
       "        0.,  0.,  0.,  0., -0.,  0.,  0.,  0.,  0.,  0.,  0.,  0.,  0.,\n",
       "        1.,  1.,  0., -0., -0.,  0.,  0., -0.,  0.,  1.,  1.,  0.,  0.,\n",
       "        0., -0.,  0.,  1.,  1.,  1.,  0., -0.,  0.,  0.,  1.,  0., -0.,\n",
       "        0.,  0.,  0.,  0.,  0.,  0.,  0.,  0.,  0.,  0.,  0.,  1.,  0.,\n",
       "       -0.,  0.,  0.,  1.,  1.,  0.,  0.,  1.,  0.,  0.,  0.,  0.,  0.,\n",
       "        0.,  1.,  0.,  0.,  0.,  0.,  0.,  1.,  0.,  0.,  0.,  1., -0.,\n",
       "        1.,  0.,  0.,  0.,  0.,  0.,  0.,  0.,  0.,  0.,  1.,  0.,  1.,\n",
       "        1.,  0.,  1.,  1.,  0.,  0.,  0.,  1.,  0.,  0., -0.,  0.,  0.,\n",
       "        0.,  0.,  0.,  0.,  0.,  0.,  1.,  0., -0.,  0.,  0.,  0.,  0.,\n",
       "        0.,  0.,  0.,  0.,  0.,  0.,  0.,  0.,  1., -0.,  0.,  0.,  0.,\n",
       "        0.,  0.,  0.,  0.,  0.,  0.,  0., -0.,  0., -0.,  0.,  0.,  0.,\n",
       "        0.,  0.,  0.,  0.,  0.,  0.,  0.,  0.,  0.,  0.,  1.,  0.])"
      ]
     },
     "execution_count": 27,
     "metadata": {},
     "output_type": "execute_result"
    }
   ],
   "source": [
    "ols_predictions = ols.predict(X_test_processed).round(0)\n",
    "ols_predictions"
   ]
  },
  {
   "cell_type": "code",
   "execution_count": 28,
   "metadata": {},
   "outputs": [
    {
     "data": {
      "text/plain": [
       "0.21146245059288538"
      ]
     },
     "execution_count": 28,
     "metadata": {},
     "output_type": "execute_result"
    }
   ],
   "source": [
    "from sklearn.metrics import mean_squared_error\n",
    "mse_ols=mean_squared_error(y_test, ols_predictions)\n",
    "mse_ols"
   ]
  },
  {
   "cell_type": "code",
   "execution_count": 29,
   "metadata": {},
   "outputs": [
    {
     "data": {
      "text/html": [
       "<div>\n",
       "<style scoped>\n",
       "    .dataframe tbody tr th:only-of-type {\n",
       "        vertical-align: middle;\n",
       "    }\n",
       "\n",
       "    .dataframe tbody tr th {\n",
       "        vertical-align: top;\n",
       "    }\n",
       "\n",
       "    .dataframe thead th {\n",
       "        text-align: right;\n",
       "    }\n",
       "</style>\n",
       "<table border=\"1\" class=\"dataframe\">\n",
       "  <thead>\n",
       "    <tr style=\"text-align: right;\">\n",
       "      <th>col_0</th>\n",
       "      <th>-0.0</th>\n",
       "      <th>1.0</th>\n",
       "    </tr>\n",
       "    <tr>\n",
       "      <th>fraud_reported</th>\n",
       "      <th></th>\n",
       "      <th></th>\n",
       "    </tr>\n",
       "  </thead>\n",
       "  <tbody>\n",
       "    <tr>\n",
       "      <th>0</th>\n",
       "      <td>342</td>\n",
       "      <td>36</td>\n",
       "    </tr>\n",
       "    <tr>\n",
       "      <th>1</th>\n",
       "      <td>71</td>\n",
       "      <td>57</td>\n",
       "    </tr>\n",
       "  </tbody>\n",
       "</table>\n",
       "</div>"
      ],
      "text/plain": [
       "col_0           -0.0   1.0\n",
       "fraud_reported            \n",
       "0                342    36\n",
       "1                 71    57"
      ]
     },
     "execution_count": 29,
     "metadata": {},
     "output_type": "execute_result"
    }
   ],
   "source": [
    "ols_ct=pd.crosstab(y_test, ols_predictions)\n",
    "ols_ct"
   ]
  },
  {
   "cell_type": "code",
   "execution_count": 30,
   "metadata": {},
   "outputs": [
    {
     "data": {
      "text/plain": [
       "0.09523809523809523"
      ]
     },
     "execution_count": 30,
     "metadata": {},
     "output_type": "execute_result"
    }
   ],
   "source": [
    "#Number of False Positives: The number of instances where the model incorrectly predicts fraud (positive class) when the true outcome is not fraud (negative class).\n",
    "\n",
    "#Number of Actual Negatives: The total number of instances where the true outcome is not fraud (negative class).\n",
    "\n",
    "#Type I Error Rate= \n",
    "# Number of False Positives/Number of Actual Negatives\n",
    "\n",
    "type1_ols=ols_ct.iloc[0,1]/(ols_ct.iloc[0,0]+ols_ct.iloc[0,1])\n",
    "type1_ols\n"
   ]
  },
  {
   "cell_type": "code",
   "execution_count": 31,
   "metadata": {},
   "outputs": [
    {
     "data": {
      "text/plain": [
       "0.5546875"
      ]
     },
     "execution_count": 31,
     "metadata": {},
     "output_type": "execute_result"
    }
   ],
   "source": [
    "#Number of False negatives: The number of instances where the model incorrectly predicts not fraud (negative class)\n",
    "\n",
    "#Number of actual Positives: Total number of instances where true outcome is fraud\n",
    "\n",
    "#Type II Error Rate= \n",
    "# Number of False Negatives/Number of Actual Positives\n",
    "\n",
    "type2_ols=ols_ct.iloc[1,0]/(ols_ct.iloc[1,1]+ols_ct.iloc[1,0])\n",
    "type2_ols\n"
   ]
  },
  {
   "cell_type": "code",
   "execution_count": 32,
   "metadata": {},
   "outputs": [
    {
     "data": {
      "text/plain": [
       "0.4453125"
      ]
     },
     "execution_count": 32,
     "metadata": {},
     "output_type": "execute_result"
    }
   ],
   "source": [
    "#Accuracy of fraud detecting\n",
    "#Correctly predicts fraud / Total fraud\n",
    "fraud_acc_ols = ols_ct.iloc[1,1] / (ols_ct.iloc[1,1]+ols_ct.iloc[1,0])\n",
    "fraud_acc_ols"
   ]
  },
  {
   "cell_type": "code",
   "execution_count": 33,
   "metadata": {},
   "outputs": [
    {
     "data": {
      "text/plain": [
       "0.9047619047619048"
      ]
     },
     "execution_count": 33,
     "metadata": {},
     "output_type": "execute_result"
    }
   ],
   "source": [
    "#Accuracy of not fraud detecting\n",
    "#Correctly predicts not fraud / Total not fraud\n",
    "nfraud_acc_ols = ols_ct.iloc[0,0] / (ols_ct.iloc[0,1]+ols_ct.iloc[0,0])\n",
    "nfraud_acc_ols"
   ]
  },
  {
   "cell_type": "code",
   "execution_count": 34,
   "metadata": {},
   "outputs": [
    {
     "data": {
      "text/plain": [
       "0.7885375494071146"
      ]
     },
     "execution_count": 34,
     "metadata": {},
     "output_type": "execute_result"
    }
   ],
   "source": [
    "#R_pseudo\n",
    "r_ols=(ols_ct.iloc[0,0]+ols_ct.iloc[1,1])/(ols_ct.iloc[0,0]+ols_ct.iloc[0,1]+ols_ct.iloc[1,0]+ols_ct.iloc[1,1])\n",
    "r_ols"
   ]
  },
  {
   "cell_type": "markdown",
   "metadata": {},
   "source": [
    "# Ridge"
   ]
  },
  {
   "cell_type": "code",
   "execution_count": 35,
   "metadata": {},
   "outputs": [
    {
     "data": {
      "text/plain": [
       "Ridge()"
      ]
     },
     "execution_count": 35,
     "metadata": {},
     "output_type": "execute_result"
    }
   ],
   "source": [
    "from sklearn import linear_model\n",
    "ridge=linear_model.Ridge()\n",
    "ridge.fit(X_train_processed, y_train)"
   ]
  },
  {
   "cell_type": "code",
   "execution_count": 36,
   "metadata": {},
   "outputs": [
    {
     "data": {
      "text/plain": [
       "array([ 6.88706212e-02, -5.53796235e-02, -7.17203541e-03,  1.39858629e-01,\n",
       "       -1.34250784e-01,  2.22202052e-02,  7.88044335e-03,  3.21144866e-02,\n",
       "        8.58024396e-03, -2.86995985e-03, -1.38569305e-02, -2.58918415e-04,\n",
       "       -4.77235796e-02,  1.89619415e-02,  1.64390493e-02,  1.79466490e-02,\n",
       "       -1.37788241e-02, -3.51194730e-02,  3.76298178e-02,  1.42622535e-02,\n",
       "       -3.35082184e-03, -2.19141159e-02,  2.52649377e-02,  1.52088048e-03,\n",
       "       -1.52088048e-03, -9.49953153e-02,  1.01862898e-01, -2.84722588e-02,\n",
       "        3.52247676e-02,  3.33303965e-02, -5.11722682e-02,  4.22178053e-03,\n",
       "       -6.57546404e-02,  6.14910775e-02,  2.49889241e-03,  1.38018455e-01,\n",
       "        2.44796208e-02, -8.47139945e-02,  1.08118826e-01, -8.95656130e-02,\n",
       "        3.64567441e-03, -3.51511192e-02, -2.42402809e-02, -2.62080337e-03,\n",
       "       -3.27669114e-02, -3.43918368e-03, -2.94752789e-02,  8.09923388e-02,\n",
       "       -8.50064740e-02,  3.34894141e-02,  3.36818390e-01, -9.34731956e-02,\n",
       "       -9.67213670e-02, -1.46623827e-01,  6.31999395e-02,  1.85916352e-02,\n",
       "       -1.42316146e-01,  5.96600036e-02,  8.64568114e-04,  4.34484854e-02,\n",
       "       -4.49086411e-02, -2.16265787e-02,  1.36426442e-02,  2.95091022e-03,\n",
       "        3.05279012e-02, -2.40347211e-02, -2.16389412e-02,  2.16389412e-02,\n",
       "        2.65415146e-02, -2.65415146e-02])"
      ]
     },
     "execution_count": 36,
     "metadata": {},
     "output_type": "execute_result"
    }
   ],
   "source": [
    "ridge.fit(X_train_processed, y_train).coef_"
   ]
  },
  {
   "cell_type": "code",
   "execution_count": 37,
   "metadata": {},
   "outputs": [
    {
     "data": {
      "text/plain": [
       "array([ 1., -0.,  1., -0., -0., -0.,  0.,  0.,  1.,  0.,  1.,  0.,  0.,\n",
       "        0.,  0.,  0.,  0.,  0.,  0.,  0.,  1., -0.,  1., -0.,  1.,  1.,\n",
       "        0.,  0.,  0.,  0.,  0.,  0.,  0.,  0.,  0.,  0.,  0.,  0.,  0.,\n",
       "       -0.,  1.,  0.,  1.,  0., -0.,  0.,  1.,  0.,  0.,  0.,  0.,  0.,\n",
       "        1.,  0.,  1.,  0.,  0.,  0.,  0.,  0.,  0.,  0.,  1.,  0.,  0.,\n",
       "        0.,  0.,  0.,  1.,  0.,  0.,  1.,  0.,  0.,  0.,  0.,  0.,  0.,\n",
       "        0.,  0.,  0.,  1.,  0.,  0.,  1.,  1.,  0.,  0.,  0., -0.,  0.,\n",
       "        0.,  0., -0., -0.,  0.,  0., -0., -0.,  0.,  0.,  0.,  0.,  0.,\n",
       "        0.,  0.,  0.,  0.,  0.,  1.,  0.,  0.,  0.,  0.,  0.,  0., -0.,\n",
       "        0.,  0.,  0.,  0.,  1.,  0.,  1.,  1.,  0.,  0.,  0.,  1.,  1.,\n",
       "        0.,  1.,  0.,  1.,  1.,  0.,  1.,  0.,  0.,  0.,  0.,  0.,  0.,\n",
       "        0.,  0.,  0.,  1.,  1.,  0.,  1.,  0.,  0.,  0., -0.,  0.,  0.,\n",
       "       -0.,  0.,  0., -0.,  0.,  0., -0.,  1.,  0.,  1.,  0.,  0.,  0.,\n",
       "        0.,  1.,  1.,  0.,  0.,  1.,  1.,  1.,  0.,  0., -0.,  0.,  1.,\n",
       "        1.,  0.,  0.,  0.,  0.,  0.,  0.,  0., -0.,  0.,  1.,  1.,  0.,\n",
       "       -0.,  0.,  1.,  0.,  0.,  0.,  0.,  0.,  0.,  0.,  0.,  0.,  0.,\n",
       "        0.,  1.,  0.,  0., -0.,  1.,  0.,  0.,  1.,  0.,  1.,  0.,  0.,\n",
       "        0.,  0.,  0.,  0., -0., -0.,  1.,  0.,  0.,  1.,  0.,  1.,  1.,\n",
       "        0.,  0.,  0.,  0.,  0.,  1.,  1.,  0.,  0.,  0.,  0.,  0.,  0.,\n",
       "        1., -0.,  1.,  0.,  0.,  0.,  0.,  1.,  0.,  0.,  0.,  0.,  1.,\n",
       "        0.,  0.,  0.,  0.,  0.,  0.,  1.,  0.,  0.,  0.,  0.,  1.,  0.,\n",
       "        1.,  0.,  0.,  1.,  0.,  0.,  0.,  0.,  0., -0.,  0.,  1.,  0.,\n",
       "        0.,  0.,  1.,  0.,  0.,  0.,  0.,  0.,  0.,  0.,  0.,  0.,  1.,\n",
       "        0.,  0.,  1.,  0.,  0.,  0.,  0.,  0.,  0.,  0., -0.,  0.,  1.,\n",
       "        0.,  0.,  1., -0.,  1.,  0.,  1.,  0.,  0.,  0.,  0., -0.,  0.,\n",
       "        1.,  0.,  0.,  0.,  0.,  0., -0.,  0.,  0.,  0.,  0.,  1.,  0.,\n",
       "        0.,  0.,  0., -0.,  0.,  0.,  0.,  0.,  0.,  0.,  0.,  0.,  1.,\n",
       "        0., -0.,  0.,  0., -0.,  0.,  0.,  0.,  0.,  0.,  0.,  0.,  0.,\n",
       "        1.,  1.,  0.,  0., -0.,  0., -0., -0.,  0.,  1.,  1.,  0.,  0.,\n",
       "        0., -0.,  0.,  1.,  0.,  1.,  0.,  0.,  0.,  0.,  1.,  0., -0.,\n",
       "        0.,  0.,  0.,  0.,  0.,  0.,  0.,  0.,  0.,  0.,  0.,  1.,  0.,\n",
       "        0.,  0.,  0.,  1.,  1.,  0.,  0.,  0.,  0.,  0.,  0.,  0.,  0.,\n",
       "        0.,  1.,  0.,  0.,  0.,  0.,  0.,  1.,  0.,  0.,  1.,  1.,  0.,\n",
       "        1.,  0.,  0.,  0.,  0.,  0.,  0.,  0.,  0.,  0.,  1.,  0.,  1.,\n",
       "        1.,  0.,  1.,  1.,  0.,  0.,  0.,  1.,  0.,  0., -0.,  0.,  0.,\n",
       "        0.,  0.,  0.,  0.,  0.,  0.,  1.,  0., -0.,  0.,  0.,  0.,  0.,\n",
       "        0., -0.,  0.,  0.,  0.,  0.,  0., -0.,  1., -0.,  0.,  1.,  0.,\n",
       "        0., -0.,  0.,  0.,  0.,  0.,  0.,  0.,  0., -0.,  0.,  1.,  0.,\n",
       "        0.,  0.,  0., -0.,  0.,  0.,  0.,  0.,  0.,  0.,  1.,  0.])"
      ]
     },
     "execution_count": 37,
     "metadata": {},
     "output_type": "execute_result"
    }
   ],
   "source": [
    "ridge_predictions = ridge.predict(X_test_processed).round(0)\n",
    "ridge_predictions"
   ]
  },
  {
   "cell_type": "code",
   "execution_count": 38,
   "metadata": {},
   "outputs": [
    {
     "data": {
      "text/plain": [
       "0.19960474308300397"
      ]
     },
     "execution_count": 38,
     "metadata": {},
     "output_type": "execute_result"
    }
   ],
   "source": [
    "mse_ridge=mean_squared_error(y_test, ridge_predictions)\n",
    "mse_ridge"
   ]
  },
  {
   "cell_type": "code",
   "execution_count": 39,
   "metadata": {},
   "outputs": [
    {
     "data": {
      "text/html": [
       "<div>\n",
       "<style scoped>\n",
       "    .dataframe tbody tr th:only-of-type {\n",
       "        vertical-align: middle;\n",
       "    }\n",
       "\n",
       "    .dataframe tbody tr th {\n",
       "        vertical-align: top;\n",
       "    }\n",
       "\n",
       "    .dataframe thead th {\n",
       "        text-align: right;\n",
       "    }\n",
       "</style>\n",
       "<table border=\"1\" class=\"dataframe\">\n",
       "  <thead>\n",
       "    <tr style=\"text-align: right;\">\n",
       "      <th>col_0</th>\n",
       "      <th>-0.0</th>\n",
       "      <th>1.0</th>\n",
       "    </tr>\n",
       "    <tr>\n",
       "      <th>fraud_reported</th>\n",
       "      <th></th>\n",
       "      <th></th>\n",
       "    </tr>\n",
       "  </thead>\n",
       "  <tbody>\n",
       "    <tr>\n",
       "      <th>0</th>\n",
       "      <td>342</td>\n",
       "      <td>36</td>\n",
       "    </tr>\n",
       "    <tr>\n",
       "      <th>1</th>\n",
       "      <td>65</td>\n",
       "      <td>63</td>\n",
       "    </tr>\n",
       "  </tbody>\n",
       "</table>\n",
       "</div>"
      ],
      "text/plain": [
       "col_0           -0.0   1.0\n",
       "fraud_reported            \n",
       "0                342    36\n",
       "1                 65    63"
      ]
     },
     "execution_count": 39,
     "metadata": {},
     "output_type": "execute_result"
    }
   ],
   "source": [
    "ridge_ct=pd.crosstab(y_test, ridge_predictions)\n",
    "ridge_ct"
   ]
  },
  {
   "cell_type": "code",
   "execution_count": 40,
   "metadata": {},
   "outputs": [
    {
     "data": {
      "text/plain": [
       "0.09523809523809523"
      ]
     },
     "execution_count": 40,
     "metadata": {},
     "output_type": "execute_result"
    }
   ],
   "source": [
    "#Number of False Positives: The number of instances where the model incorrectly predicts fraud (positive class) when the true outcome is not fraud (negative class).\n",
    "\n",
    "#Number of Actual Negatives: The total number of instances where the true outcome is not fraud (negative class).\n",
    "\n",
    "#Type I Error Rate= \n",
    "# Number of False Positives/Number of Actual Negatives\n",
    "\n",
    "type1_ridge=ridge_ct.iloc[0,1]/(ridge_ct.iloc[0,0]+ridge_ct.iloc[0,1])\n",
    "type1_ridge\n"
   ]
  },
  {
   "cell_type": "code",
   "execution_count": 41,
   "metadata": {},
   "outputs": [
    {
     "data": {
      "text/plain": [
       "0.5078125"
      ]
     },
     "execution_count": 41,
     "metadata": {},
     "output_type": "execute_result"
    }
   ],
   "source": [
    "#Number of False negatives: The number of instances where the model incorrectly predicts not fraud (negative class)\n",
    "\n",
    "#Number of actual Positives: Total number of instances where true outcome is fraud\n",
    "\n",
    "#Type II Error Rate= \n",
    "# Number of False Negatives/Number of Actual Positives\n",
    "\n",
    "type2_ridge=ridge_ct.iloc[1,0]/(ridge_ct.iloc[1,1]+ridge_ct.iloc[1,0])\n",
    "type2_ridge"
   ]
  },
  {
   "cell_type": "code",
   "execution_count": 42,
   "metadata": {},
   "outputs": [
    {
     "data": {
      "text/plain": [
       "0.4921875"
      ]
     },
     "execution_count": 42,
     "metadata": {},
     "output_type": "execute_result"
    }
   ],
   "source": [
    "#Accuracy of fraud detecting\n",
    "#Correctly predicts fraud / Total fraud\n",
    "fraud_acc_ridge = ridge_ct.iloc[1,1] / (ridge_ct.iloc[1,1]+ridge_ct.iloc[1,0])\n",
    "fraud_acc_ridge"
   ]
  },
  {
   "cell_type": "code",
   "execution_count": 43,
   "metadata": {},
   "outputs": [
    {
     "data": {
      "text/plain": [
       "0.9047619047619048"
      ]
     },
     "execution_count": 43,
     "metadata": {},
     "output_type": "execute_result"
    }
   ],
   "source": [
    "#Accuracy of not fraud detecting\n",
    "#Correctly predicts not fraud / Total not fraud\n",
    "nfraud_acc_ridge = ridge_ct.iloc[0,0] / (ridge_ct.iloc[0,1]+ridge_ct.iloc[0,0])\n",
    "nfraud_acc_ridge"
   ]
  },
  {
   "cell_type": "code",
   "execution_count": 44,
   "metadata": {},
   "outputs": [
    {
     "data": {
      "text/plain": [
       "0.8003952569169961"
      ]
     },
     "execution_count": 44,
     "metadata": {},
     "output_type": "execute_result"
    }
   ],
   "source": [
    "#R_pseudo\n",
    "r_ridge=(ridge_ct.iloc[0,0]+ridge_ct.iloc[1,1])/(ridge_ct.iloc[0,0]+ridge_ct.iloc[0,1]+ridge_ct.iloc[1,0]+ridge_ct.iloc[1,1])\n",
    "r_ridge"
   ]
  },
  {
   "cell_type": "markdown",
   "metadata": {},
   "source": [
    "## Logit"
   ]
  },
  {
   "cell_type": "code",
   "execution_count": 45,
   "metadata": {},
   "outputs": [
    {
     "data": {
      "text/plain": [
       "LogisticRegression()"
      ]
     },
     "execution_count": 45,
     "metadata": {},
     "output_type": "execute_result"
    }
   ],
   "source": [
    "from sklearn import linear_model\n",
    "logit=linear_model.LogisticRegression()\n",
    "logit.fit(X_train_processed, y_train)"
   ]
  },
  {
   "cell_type": "code",
   "execution_count": 46,
   "metadata": {},
   "outputs": [
    {
     "data": {
      "text/plain": [
       "array([[ 4.47606596e-01, -3.46809907e-01, -5.99580770e-02,\n",
       "         3.73247533e-01, -3.30028846e-01,  1.74364907e-01,\n",
       "         3.81879811e-02,  2.34080582e-01,  5.91988603e-02,\n",
       "        -3.55173419e-02, -8.61852067e-02, -1.00628575e-02,\n",
       "        -1.97146281e-01,  1.50757506e-01,  1.22366258e-01,\n",
       "         9.31170227e-02, -9.50837526e-02, -2.47885849e-01,\n",
       "         2.18258758e-01,  9.79727526e-02, -5.90375835e-02,\n",
       "        -1.19088001e-01,  1.79079344e-01,  6.02519788e-04,\n",
       "         3.51239849e-04, -7.12171109e-01,  6.05169972e-01,\n",
       "        -1.27389001e-01,  2.53628855e-01,  2.69669696e-01,\n",
       "        -2.75945653e-01, -1.20090009e-02, -5.54710698e-01,\n",
       "         4.79217531e-01, -1.00556756e-02,  7.38935351e-01,\n",
       "         7.38799568e-02, -4.07268391e-01,  7.13166289e-01,\n",
       "        -6.58792187e-01,  2.23337900e-02, -1.70206052e-01,\n",
       "        -1.01835977e-01,  2.41781522e-02, -1.49587808e-01,\n",
       "         1.69947836e-03, -1.05676660e-01,  2.93499487e-01,\n",
       "        -2.16151548e-01,  2.92824804e-02,  1.75023574e+00,\n",
       "        -5.02324959e-01, -5.71878943e-01, -6.75078075e-01,\n",
       "         4.60205327e-01,  1.34171678e-01, -9.95779369e-01,\n",
       "         3.59661257e-01,  4.26948669e-02,  3.07408954e-01,\n",
       "        -4.34765016e-01, -1.41023358e-01,  1.54780133e-01,\n",
       "         3.41301413e-02,  1.73410519e-01, -9.29876128e-02,\n",
       "        -1.57588887e-01,  1.58542646e-01,  1.84944525e-01,\n",
       "        -1.83990765e-01]])"
      ]
     },
     "execution_count": 46,
     "metadata": {},
     "output_type": "execute_result"
    }
   ],
   "source": [
    "logit.fit(X_train_processed, y_train).coef_"
   ]
  },
  {
   "cell_type": "code",
   "execution_count": 47,
   "metadata": {},
   "outputs": [
    {
     "data": {
      "text/plain": [
       "array([1, 0, 1, 0, 0, 0, 0, 0, 1, 1, 1, 0, 0, 1, 0, 0, 0, 0, 0, 0, 1, 0,\n",
       "       1, 0, 1, 1, 0, 0, 0, 0, 0, 0, 0, 0, 0, 0, 0, 0, 0, 0, 1, 0, 1, 0,\n",
       "       0, 0, 1, 0, 0, 0, 0, 0, 0, 0, 1, 0, 0, 0, 0, 0, 0, 0, 1, 0, 0, 0,\n",
       "       0, 0, 1, 0, 0, 1, 0, 0, 0, 0, 0, 0, 0, 0, 0, 1, 0, 0, 1, 1, 0, 0,\n",
       "       0, 0, 0, 0, 0, 0, 0, 0, 0, 0, 0, 0, 0, 0, 0, 0, 0, 0, 0, 0, 0, 1,\n",
       "       0, 0, 0, 0, 0, 0, 0, 0, 0, 0, 0, 1, 0, 1, 1, 0, 0, 0, 1, 1, 0, 1,\n",
       "       0, 1, 1, 0, 1, 0, 0, 0, 0, 0, 0, 0, 0, 0, 1, 1, 0, 1, 0, 0, 0, 0,\n",
       "       0, 0, 0, 0, 1, 0, 0, 0, 0, 1, 0, 1, 0, 0, 0, 0, 1, 1, 0, 0, 1, 1,\n",
       "       1, 0, 0, 0, 0, 1, 1, 0, 0, 0, 0, 0, 0, 0, 0, 0, 1, 1, 0, 0, 0, 1,\n",
       "       0, 0, 0, 0, 0, 0, 0, 0, 0, 0, 0, 1, 0, 0, 0, 0, 0, 0, 1, 0, 1, 0,\n",
       "       0, 0, 0, 0, 0, 0, 0, 1, 0, 0, 1, 0, 1, 1, 0, 0, 0, 0, 0, 0, 1, 0,\n",
       "       0, 0, 0, 0, 0, 1, 0, 1, 0, 0, 0, 0, 1, 0, 0, 0, 0, 0, 0, 0, 0, 0,\n",
       "       0, 0, 1, 0, 0, 0, 0, 1, 0, 1, 0, 0, 1, 0, 0, 0, 0, 0, 0, 0, 1, 0,\n",
       "       0, 0, 1, 0, 0, 0, 0, 0, 0, 0, 0, 0, 1, 0, 0, 1, 0, 0, 0, 0, 0, 0,\n",
       "       0, 0, 0, 1, 0, 0, 1, 0, 1, 0, 1, 0, 0, 0, 0, 0, 0, 0, 0, 0, 0, 0,\n",
       "       0, 0, 0, 0, 0, 0, 1, 0, 0, 0, 0, 0, 0, 0, 0, 0, 0, 0, 0, 0, 1, 0,\n",
       "       0, 0, 0, 0, 0, 0, 0, 0, 0, 0, 0, 0, 1, 1, 0, 0, 0, 0, 0, 0, 0, 1,\n",
       "       1, 0, 0, 0, 0, 0, 1, 0, 1, 0, 0, 0, 0, 1, 0, 0, 0, 0, 0, 0, 0, 0,\n",
       "       0, 0, 0, 0, 0, 0, 0, 0, 0, 0, 1, 1, 0, 0, 0, 0, 0, 0, 0, 0, 0, 1,\n",
       "       0, 0, 0, 0, 0, 1, 0, 0, 0, 1, 0, 1, 0, 0, 0, 0, 0, 0, 0, 0, 0, 1,\n",
       "       0, 1, 1, 0, 1, 1, 0, 0, 0, 1, 0, 0, 0, 0, 0, 0, 0, 0, 0, 0, 0, 1,\n",
       "       0, 0, 0, 0, 0, 0, 0, 0, 0, 0, 0, 0, 0, 0, 1, 0, 0, 0, 0, 0, 0, 0,\n",
       "       0, 0, 0, 0, 0, 0, 0, 0, 1, 0, 0, 0, 0, 0, 0, 0, 0, 0, 0, 0, 1, 0],\n",
       "      dtype=int64)"
      ]
     },
     "execution_count": 47,
     "metadata": {},
     "output_type": "execute_result"
    }
   ],
   "source": [
    "logit_predictions = logit.predict(X_test_processed)\n",
    "logit_predictions"
   ]
  },
  {
   "cell_type": "code",
   "execution_count": 48,
   "metadata": {},
   "outputs": [
    {
     "data": {
      "text/plain": [
       "0.2134387351778656"
      ]
     },
     "execution_count": 48,
     "metadata": {},
     "output_type": "execute_result"
    }
   ],
   "source": [
    "mse_logit=mean_squared_error(y_test, logit_predictions)\n",
    "mse_logit"
   ]
  },
  {
   "cell_type": "code",
   "execution_count": 49,
   "metadata": {},
   "outputs": [
    {
     "data": {
      "text/html": [
       "<div>\n",
       "<style scoped>\n",
       "    .dataframe tbody tr th:only-of-type {\n",
       "        vertical-align: middle;\n",
       "    }\n",
       "\n",
       "    .dataframe tbody tr th {\n",
       "        vertical-align: top;\n",
       "    }\n",
       "\n",
       "    .dataframe thead th {\n",
       "        text-align: right;\n",
       "    }\n",
       "</style>\n",
       "<table border=\"1\" class=\"dataframe\">\n",
       "  <thead>\n",
       "    <tr style=\"text-align: right;\">\n",
       "      <th>col_0</th>\n",
       "      <th>0</th>\n",
       "      <th>1</th>\n",
       "    </tr>\n",
       "    <tr>\n",
       "      <th>fraud_reported</th>\n",
       "      <th></th>\n",
       "      <th></th>\n",
       "    </tr>\n",
       "  </thead>\n",
       "  <tbody>\n",
       "    <tr>\n",
       "      <th>0</th>\n",
       "      <td>341</td>\n",
       "      <td>37</td>\n",
       "    </tr>\n",
       "    <tr>\n",
       "      <th>1</th>\n",
       "      <td>71</td>\n",
       "      <td>57</td>\n",
       "    </tr>\n",
       "  </tbody>\n",
       "</table>\n",
       "</div>"
      ],
      "text/plain": [
       "col_0             0   1\n",
       "fraud_reported         \n",
       "0               341  37\n",
       "1                71  57"
      ]
     },
     "execution_count": 49,
     "metadata": {},
     "output_type": "execute_result"
    }
   ],
   "source": [
    "logit_ct=pd.crosstab(y_test, logit_predictions)\n",
    "logit_ct"
   ]
  },
  {
   "cell_type": "code",
   "execution_count": 50,
   "metadata": {},
   "outputs": [
    {
     "data": {
      "text/plain": [
       "37"
      ]
     },
     "execution_count": 50,
     "metadata": {},
     "output_type": "execute_result"
    }
   ],
   "source": [
    "#Model incorrectly predicts fraud\n",
    "logit_ct.iloc[0,1]"
   ]
  },
  {
   "cell_type": "code",
   "execution_count": 51,
   "metadata": {},
   "outputs": [
    {
     "data": {
      "text/plain": [
       "57"
      ]
     },
     "execution_count": 51,
     "metadata": {},
     "output_type": "execute_result"
    }
   ],
   "source": [
    "#Model correctly predicts fraud\n",
    "logit_ct.iloc[1,1]"
   ]
  },
  {
   "cell_type": "code",
   "execution_count": 52,
   "metadata": {},
   "outputs": [
    {
     "data": {
      "text/plain": [
       "71"
      ]
     },
     "execution_count": 52,
     "metadata": {},
     "output_type": "execute_result"
    }
   ],
   "source": [
    "#Model incorrectly predicts not fraud\n",
    "logit_ct.iloc[1,0]"
   ]
  },
  {
   "cell_type": "code",
   "execution_count": 53,
   "metadata": {},
   "outputs": [
    {
     "data": {
      "text/plain": [
       "341"
      ]
     },
     "execution_count": 53,
     "metadata": {},
     "output_type": "execute_result"
    }
   ],
   "source": [
    "#Model correctly predicts not fraud\n",
    "logit_ct.iloc[0,0]"
   ]
  },
  {
   "cell_type": "code",
   "execution_count": 54,
   "metadata": {},
   "outputs": [
    {
     "data": {
      "text/plain": [
       "0.09788359788359788"
      ]
     },
     "execution_count": 54,
     "metadata": {},
     "output_type": "execute_result"
    }
   ],
   "source": [
    "#Number of False Positives: Model incorrectly predicts fraud (positive class) when the true outcome is not fraud (negative class).\n",
    "\n",
    "#Number of Actual Negatives: The total true not fraud (negative class).\n",
    "\n",
    "#Type I Error Rate= \n",
    "# Number of False Positives/Number of Actual Negatives\n",
    "# Model incorrecly predicts fraud / Total not fraud\n",
    "\n",
    "type1_logit=logit_ct.iloc[0,1]/(logit_ct.iloc[0,0]+logit_ct.iloc[0,1])\n",
    "type1_logit"
   ]
  },
  {
   "cell_type": "code",
   "execution_count": 55,
   "metadata": {},
   "outputs": [
    {
     "data": {
      "text/plain": [
       "0.5546875"
      ]
     },
     "execution_count": 55,
     "metadata": {},
     "output_type": "execute_result"
    }
   ],
   "source": [
    "#Number of False negatives: The number of instances where the model incorrectly predicts not fraud (negative class)\n",
    "\n",
    "#Number of actual Positives: Total number of instances where true outcome is fraud\n",
    "\n",
    "#Type II Error Rate= \n",
    "# Number of False Negatives/Number of Actual Positives\n",
    "# Model incorrecly predicts Not fraud / Total fraud\n",
    "\n",
    "type2_logit=logit_ct.iloc[1,0]/(logit_ct.iloc[1,1]+logit_ct.iloc[1,0])\n",
    "type2_logit"
   ]
  },
  {
   "cell_type": "code",
   "execution_count": 56,
   "metadata": {},
   "outputs": [
    {
     "data": {
      "text/plain": [
       "0.4453125"
      ]
     },
     "execution_count": 56,
     "metadata": {},
     "output_type": "execute_result"
    }
   ],
   "source": [
    "#Accuracy of fraud detecting\n",
    "#Correctly predicts fraud / Total fraud\n",
    "fraud_acc_logit = logit_ct.iloc[1,1] / (logit_ct.iloc[1,1]+logit_ct.iloc[1,0])\n",
    "fraud_acc_logit"
   ]
  },
  {
   "cell_type": "code",
   "execution_count": 57,
   "metadata": {},
   "outputs": [
    {
     "data": {
      "text/plain": [
       "0.9021164021164021"
      ]
     },
     "execution_count": 57,
     "metadata": {},
     "output_type": "execute_result"
    }
   ],
   "source": [
    "#Accuracy of not fraud detecting\n",
    "#Correctly predicts not fraud / Total not fraud\n",
    "nfraud_acc_logit = logit_ct.iloc[0,0] / (logit_ct.iloc[0,1]+logit_ct.iloc[0,0])\n",
    "nfraud_acc_logit"
   ]
  },
  {
   "cell_type": "code",
   "execution_count": 58,
   "metadata": {},
   "outputs": [
    {
     "data": {
      "text/plain": [
       "0.7865612648221344"
      ]
     },
     "execution_count": 58,
     "metadata": {},
     "output_type": "execute_result"
    }
   ],
   "source": [
    "#R_pseudo\n",
    "r_logit=(logit_ct.iloc[0,0]+logit_ct.iloc[1,1])/(logit_ct.iloc[0,0]+logit_ct.iloc[0,1]+logit_ct.iloc[1,0]+logit_ct.iloc[1,1])\n",
    "r_logit"
   ]
  },
  {
   "cell_type": "markdown",
   "metadata": {},
   "source": [
    "## Lasso Logit"
   ]
  },
  {
   "cell_type": "code",
   "execution_count": 59,
   "metadata": {},
   "outputs": [
    {
     "data": {
      "text/plain": [
       "LogisticRegression(penalty='l1', solver='liblinear')"
      ]
     },
     "execution_count": 59,
     "metadata": {},
     "output_type": "execute_result"
    }
   ],
   "source": [
    "from sklearn import linear_model\n",
    "lasso_logit=linear_model.LogisticRegression(penalty='l1', solver='liblinear' )\n",
    "lasso_logit.fit(X_train_processed, y_train)"
   ]
  },
  {
   "cell_type": "code",
   "execution_count": 60,
   "metadata": {},
   "outputs": [
    {
     "data": {
      "text/plain": [
       "array([[ 0.29239785, -0.19015861, -0.02710468,  0.02917521,  0.        ,\n",
       "         0.16720366,  0.01507036,  0.23688327,  0.05573645, -0.02124459,\n",
       "        -0.0720296 ,  0.        , -0.15190913,  0.12876624,  0.09338855,\n",
       "         0.        , -0.06805997, -0.18004986,  0.15358562,  0.07456155,\n",
       "        -0.15121458, -0.16889272,  0.        ,  0.        ,  0.        ,\n",
       "        -0.76900884,  0.36349893, -0.15815474,  0.04553902,  0.        ,\n",
       "        -0.33018504, -0.00515039, -0.38392516,  0.36851936,  0.        ,\n",
       "         0.74011154,  0.        , -0.23361906,  0.62315139, -0.49164996,\n",
       "         0.        ,  0.        ,  0.        ,  0.        ,  0.        ,\n",
       "         0.        ,  0.        ,  0.        ,  0.        ,  0.        ,\n",
       "         2.23912603,  0.        ,  0.        ,  0.        ,  0.06929936,\n",
       "        -0.11876291, -1.0939438 ,  0.        , -0.208867  ,  0.07755109,\n",
       "        -0.46099384,  0.        ,  0.        ,  0.        ,  0.        ,\n",
       "        -0.08854042, -0.3293645 ,  0.        ,  0.        , -0.30950152]])"
      ]
     },
     "execution_count": 60,
     "metadata": {},
     "output_type": "execute_result"
    }
   ],
   "source": [
    "lasso_logit.fit(X_train_processed, y_train).coef_"
   ]
  },
  {
   "cell_type": "code",
   "execution_count": 61,
   "metadata": {},
   "outputs": [
    {
     "data": {
      "text/plain": [
       "array([1, 0, 1, 0, 0, 0, 0, 0, 1, 1, 1, 0, 0, 1, 0, 0, 0, 0, 0, 0, 1, 0,\n",
       "       1, 0, 1, 1, 0, 0, 0, 0, 0, 0, 0, 0, 0, 0, 0, 0, 0, 0, 1, 0, 0, 0,\n",
       "       0, 0, 1, 0, 0, 0, 0, 0, 0, 0, 1, 0, 0, 0, 0, 0, 0, 0, 1, 0, 0, 0,\n",
       "       0, 0, 1, 0, 0, 1, 0, 0, 0, 0, 0, 0, 0, 0, 0, 1, 0, 0, 1, 1, 0, 0,\n",
       "       0, 0, 0, 0, 0, 0, 0, 0, 0, 0, 0, 0, 0, 0, 0, 0, 0, 0, 0, 0, 0, 1,\n",
       "       0, 0, 0, 0, 0, 0, 0, 0, 0, 0, 0, 0, 0, 1, 1, 0, 0, 0, 1, 1, 0, 1,\n",
       "       0, 1, 1, 0, 1, 0, 0, 0, 0, 0, 0, 0, 0, 0, 1, 1, 0, 1, 0, 0, 0, 0,\n",
       "       0, 0, 0, 0, 1, 0, 0, 0, 0, 1, 0, 1, 0, 0, 0, 0, 1, 1, 0, 0, 1, 1,\n",
       "       1, 0, 0, 0, 0, 1, 1, 0, 0, 0, 0, 0, 0, 0, 0, 0, 1, 1, 0, 0, 0, 1,\n",
       "       0, 0, 0, 0, 0, 0, 0, 0, 0, 0, 0, 1, 0, 0, 0, 1, 0, 0, 1, 0, 0, 0,\n",
       "       0, 0, 0, 0, 0, 0, 0, 1, 0, 0, 1, 0, 1, 1, 0, 0, 0, 0, 0, 0, 1, 0,\n",
       "       0, 0, 0, 0, 0, 1, 0, 1, 0, 0, 0, 0, 1, 0, 0, 0, 0, 0, 0, 0, 0, 0,\n",
       "       0, 0, 1, 0, 0, 0, 0, 1, 0, 1, 0, 0, 1, 0, 0, 0, 0, 0, 0, 0, 1, 0,\n",
       "       0, 0, 1, 0, 0, 0, 0, 0, 0, 0, 0, 0, 1, 0, 0, 1, 0, 0, 0, 0, 0, 0,\n",
       "       0, 0, 0, 1, 0, 0, 1, 0, 1, 0, 1, 0, 0, 0, 0, 0, 0, 0, 0, 0, 0, 0,\n",
       "       0, 0, 0, 0, 0, 0, 1, 0, 0, 0, 0, 0, 0, 0, 0, 0, 0, 0, 0, 0, 1, 0,\n",
       "       0, 1, 0, 0, 0, 0, 0, 0, 0, 0, 0, 0, 1, 1, 1, 0, 0, 0, 0, 0, 0, 0,\n",
       "       1, 0, 0, 0, 0, 0, 1, 0, 1, 0, 0, 0, 0, 1, 0, 0, 0, 0, 0, 0, 0, 0,\n",
       "       0, 0, 0, 0, 0, 1, 0, 0, 0, 0, 1, 1, 0, 0, 1, 0, 0, 0, 0, 0, 0, 1,\n",
       "       0, 0, 0, 0, 0, 1, 0, 0, 0, 1, 0, 1, 0, 0, 0, 0, 0, 0, 0, 0, 0, 1,\n",
       "       0, 1, 1, 0, 1, 1, 0, 0, 0, 1, 0, 0, 0, 0, 0, 0, 0, 0, 0, 0, 0, 1,\n",
       "       0, 0, 0, 0, 0, 0, 0, 0, 0, 0, 0, 0, 0, 0, 1, 0, 0, 1, 0, 0, 0, 0,\n",
       "       0, 0, 0, 0, 0, 0, 0, 0, 1, 0, 0, 0, 0, 0, 0, 0, 0, 0, 0, 0, 1, 0],\n",
       "      dtype=int64)"
      ]
     },
     "execution_count": 61,
     "metadata": {},
     "output_type": "execute_result"
    }
   ],
   "source": [
    "lasso_logit_predictions = lasso_logit.predict(X_test_processed)\n",
    "lasso_logit_predictions"
   ]
  },
  {
   "cell_type": "code",
   "execution_count": 62,
   "metadata": {},
   "outputs": [
    {
     "data": {
      "text/plain": [
       "0.20948616600790515"
      ]
     },
     "execution_count": 62,
     "metadata": {},
     "output_type": "execute_result"
    }
   ],
   "source": [
    "mse_lasso_logit=mean_squared_error(y_test, lasso_logit_predictions)\n",
    "mse_lasso_logit"
   ]
  },
  {
   "cell_type": "code",
   "execution_count": 63,
   "metadata": {},
   "outputs": [
    {
     "data": {
      "text/html": [
       "<div>\n",
       "<style scoped>\n",
       "    .dataframe tbody tr th:only-of-type {\n",
       "        vertical-align: middle;\n",
       "    }\n",
       "\n",
       "    .dataframe tbody tr th {\n",
       "        vertical-align: top;\n",
       "    }\n",
       "\n",
       "    .dataframe thead th {\n",
       "        text-align: right;\n",
       "    }\n",
       "</style>\n",
       "<table border=\"1\" class=\"dataframe\">\n",
       "  <thead>\n",
       "    <tr style=\"text-align: right;\">\n",
       "      <th>col_0</th>\n",
       "      <th>0</th>\n",
       "      <th>1</th>\n",
       "    </tr>\n",
       "    <tr>\n",
       "      <th>fraud_reported</th>\n",
       "      <th></th>\n",
       "      <th></th>\n",
       "    </tr>\n",
       "  </thead>\n",
       "  <tbody>\n",
       "    <tr>\n",
       "      <th>0</th>\n",
       "      <td>341</td>\n",
       "      <td>37</td>\n",
       "    </tr>\n",
       "    <tr>\n",
       "      <th>1</th>\n",
       "      <td>69</td>\n",
       "      <td>59</td>\n",
       "    </tr>\n",
       "  </tbody>\n",
       "</table>\n",
       "</div>"
      ],
      "text/plain": [
       "col_0             0   1\n",
       "fraud_reported         \n",
       "0               341  37\n",
       "1                69  59"
      ]
     },
     "execution_count": 63,
     "metadata": {},
     "output_type": "execute_result"
    }
   ],
   "source": [
    "lasso_logit_ct=pd.crosstab(y_test, lasso_logit_predictions)\n",
    "lasso_logit_ct"
   ]
  },
  {
   "cell_type": "code",
   "execution_count": 64,
   "metadata": {},
   "outputs": [
    {
     "data": {
      "text/plain": [
       "0.09788359788359788"
      ]
     },
     "execution_count": 64,
     "metadata": {},
     "output_type": "execute_result"
    }
   ],
   "source": [
    "#Number of False Positives: The number of instances where the model incorrectly predicts default (positive class) when the true outcome is not default (negative class).\n",
    "\n",
    "#Number of Actual Negatives: The total number of instances where the true outcome is not default (negative class).\n",
    "\n",
    "#Type I Error Rate= \n",
    "# Number of False Positives/Number of Actual Negatives\n",
    "\n",
    "type1_lasso_logit=lasso_logit_ct.iloc[0,1]/(lasso_logit_ct.iloc[0,0]+lasso_logit_ct.iloc[0,1])\n",
    "type1_lasso_logit"
   ]
  },
  {
   "cell_type": "code",
   "execution_count": 65,
   "metadata": {},
   "outputs": [
    {
     "data": {
      "text/plain": [
       "0.5390625"
      ]
     },
     "execution_count": 65,
     "metadata": {},
     "output_type": "execute_result"
    }
   ],
   "source": [
    "#Number of False negatives: The number of instances where the model incorrectly predicts not fraud (negative class)\n",
    "\n",
    "#Number of actual Positives: Total number of instances where true outcome is fraud\n",
    "\n",
    "#Type II Error Rate= \n",
    "# Number of False Negatives/Number of Actual Positives\n",
    "\n",
    "type2_lasso_logit=lasso_logit_ct.iloc[1,0]/(lasso_logit_ct.iloc[1,1]+lasso_logit_ct.iloc[1,0])\n",
    "type2_lasso_logit"
   ]
  },
  {
   "cell_type": "code",
   "execution_count": 66,
   "metadata": {},
   "outputs": [
    {
     "data": {
      "text/plain": [
       "0.4609375"
      ]
     },
     "execution_count": 66,
     "metadata": {},
     "output_type": "execute_result"
    }
   ],
   "source": [
    "#Accuracy of fraud detecting\n",
    "#Correctly predicts fraud / Total fraud\n",
    "fraud_acc_lasso_logit = lasso_logit_ct.iloc[1,1] / (lasso_logit_ct.iloc[1,1]+lasso_logit_ct.iloc[1,0])\n",
    "fraud_acc_lasso_logit"
   ]
  },
  {
   "cell_type": "code",
   "execution_count": 67,
   "metadata": {},
   "outputs": [
    {
     "data": {
      "text/plain": [
       "0.9021164021164021"
      ]
     },
     "execution_count": 67,
     "metadata": {},
     "output_type": "execute_result"
    }
   ],
   "source": [
    "#Accuracy of not fraud detecting\n",
    "#Correctly predicts not fraud / Total not fraud\n",
    "nfraud_acc_lasso_logit = lasso_logit_ct.iloc[0,0] / (lasso_logit_ct.iloc[0,1]+lasso_logit_ct.iloc[0,0])\n",
    "nfraud_acc_lasso_logit "
   ]
  },
  {
   "cell_type": "code",
   "execution_count": 68,
   "metadata": {},
   "outputs": [
    {
     "data": {
      "text/plain": [
       "0.7905138339920948"
      ]
     },
     "execution_count": 68,
     "metadata": {},
     "output_type": "execute_result"
    }
   ],
   "source": [
    "#R_pseudo\n",
    "r_lasso_logit=(lasso_logit_ct.iloc[0,0]+lasso_logit_ct.iloc[1,1])/(lasso_logit_ct.iloc[0,0]+lasso_logit_ct.iloc[0,1]+lasso_logit_ct.iloc[1,0]+lasso_logit_ct.iloc[1,1])\n",
    "r_lasso_logit"
   ]
  },
  {
   "cell_type": "markdown",
   "metadata": {},
   "source": [
    "## Random Forest"
   ]
  },
  {
   "cell_type": "code",
   "execution_count": 69,
   "metadata": {},
   "outputs": [
    {
     "data": {
      "text/plain": [
       "RandomForestClassifier(n_estimators=8)"
      ]
     },
     "execution_count": 69,
     "metadata": {},
     "output_type": "execute_result"
    }
   ],
   "source": [
    "from sklearn.ensemble import RandomForestClassifier\n",
    "\n",
    "n_estimators = int(np.sqrt(X_train_processed.shape[1]))\n",
    "\n",
    "# Initialize Random Forest classifier with the calculated number of estimators\n",
    "rf = RandomForestClassifier(n_estimators=n_estimators )\n",
    "\n",
    "# Train the classifier\n",
    "rf.fit(X_train_processed, y_train)"
   ]
  },
  {
   "cell_type": "code",
   "execution_count": 70,
   "metadata": {},
   "outputs": [
    {
     "data": {
      "text/plain": [
       "array([1, 0, 0, 0, 0, 0, 0, 0, 0, 0, 1, 0, 0, 0, 0, 0, 0, 0, 0, 0, 0, 0,\n",
       "       1, 0, 0, 0, 0, 0, 0, 0, 0, 0, 0, 0, 0, 0, 0, 0, 0, 0, 0, 0, 0, 0,\n",
       "       0, 0, 0, 0, 0, 0, 0, 0, 1, 0, 1, 0, 0, 0, 0, 0, 0, 0, 1, 1, 0, 0,\n",
       "       0, 0, 1, 0, 0, 1, 0, 0, 0, 0, 0, 0, 0, 0, 0, 0, 0, 0, 0, 1, 0, 0,\n",
       "       0, 0, 0, 0, 0, 0, 0, 0, 1, 0, 0, 0, 0, 0, 0, 0, 0, 0, 0, 0, 0, 1,\n",
       "       0, 0, 0, 0, 0, 0, 0, 0, 0, 0, 0, 0, 0, 0, 0, 1, 0, 0, 0, 0, 0, 1,\n",
       "       0, 0, 0, 0, 0, 0, 0, 0, 0, 0, 0, 0, 0, 0, 0, 0, 0, 0, 0, 0, 0, 0,\n",
       "       0, 0, 0, 0, 0, 0, 0, 0, 0, 1, 0, 0, 0, 0, 0, 0, 1, 0, 0, 0, 0, 0,\n",
       "       0, 0, 0, 0, 0, 1, 1, 0, 0, 0, 0, 0, 0, 0, 0, 0, 0, 0, 0, 0, 0, 0,\n",
       "       0, 0, 0, 0, 0, 0, 0, 0, 0, 0, 0, 0, 0, 1, 0, 0, 0, 0, 0, 0, 0, 0,\n",
       "       0, 1, 0, 0, 0, 0, 0, 0, 0, 0, 0, 0, 0, 0, 0, 0, 0, 0, 0, 1, 0, 0,\n",
       "       1, 0, 0, 0, 0, 0, 0, 0, 0, 0, 0, 0, 0, 0, 0, 0, 0, 1, 0, 0, 0, 0,\n",
       "       0, 0, 1, 0, 0, 0, 0, 0, 0, 1, 0, 0, 0, 0, 0, 0, 0, 0, 0, 0, 0, 0,\n",
       "       0, 0, 1, 0, 0, 0, 0, 0, 0, 0, 0, 0, 1, 0, 0, 0, 0, 0, 0, 0, 0, 0,\n",
       "       0, 0, 0, 0, 0, 0, 0, 0, 1, 0, 0, 0, 0, 0, 0, 0, 0, 0, 0, 0, 0, 0,\n",
       "       0, 0, 0, 0, 0, 0, 1, 0, 0, 0, 1, 0, 0, 0, 0, 0, 0, 0, 0, 0, 1, 0,\n",
       "       0, 0, 0, 0, 0, 0, 1, 0, 0, 0, 0, 0, 1, 1, 1, 0, 0, 0, 0, 0, 0, 0,\n",
       "       0, 0, 0, 0, 0, 0, 1, 0, 1, 0, 0, 0, 0, 1, 0, 0, 0, 0, 0, 0, 0, 0,\n",
       "       0, 0, 0, 0, 0, 0, 0, 0, 0, 0, 0, 0, 0, 0, 0, 0, 0, 0, 0, 0, 0, 1,\n",
       "       0, 0, 0, 0, 0, 1, 0, 0, 0, 0, 0, 0, 0, 0, 0, 0, 0, 0, 0, 0, 0, 0,\n",
       "       0, 0, 0, 0, 0, 0, 0, 0, 0, 0, 0, 0, 0, 0, 0, 0, 0, 0, 0, 0, 0, 1,\n",
       "       0, 0, 0, 0, 0, 0, 0, 0, 0, 0, 0, 0, 0, 0, 0, 0, 1, 0, 0, 0, 0, 0,\n",
       "       0, 0, 0, 0, 0, 0, 0, 0, 0, 0, 1, 0, 0, 0, 0, 0, 0, 0, 0, 0, 1, 0],\n",
       "      dtype=int64)"
      ]
     },
     "execution_count": 70,
     "metadata": {},
     "output_type": "execute_result"
    }
   ],
   "source": [
    "rf_predictions=rf.predict(X_test_processed)\n",
    "rf_predictions"
   ]
  },
  {
   "cell_type": "code",
   "execution_count": 71,
   "metadata": {},
   "outputs": [
    {
     "data": {
      "text/plain": [
       "0.22924901185770752"
      ]
     },
     "execution_count": 71,
     "metadata": {},
     "output_type": "execute_result"
    }
   ],
   "source": [
    "mse_rf=mean_squared_error(y_test, rf_predictions)\n",
    "mse_rf"
   ]
  },
  {
   "cell_type": "code",
   "execution_count": 72,
   "metadata": {},
   "outputs": [
    {
     "data": {
      "text/html": [
       "<div>\n",
       "<style scoped>\n",
       "    .dataframe tbody tr th:only-of-type {\n",
       "        vertical-align: middle;\n",
       "    }\n",
       "\n",
       "    .dataframe tbody tr th {\n",
       "        vertical-align: top;\n",
       "    }\n",
       "\n",
       "    .dataframe thead th {\n",
       "        text-align: right;\n",
       "    }\n",
       "</style>\n",
       "<table border=\"1\" class=\"dataframe\">\n",
       "  <thead>\n",
       "    <tr style=\"text-align: right;\">\n",
       "      <th>col_0</th>\n",
       "      <th>0</th>\n",
       "      <th>1</th>\n",
       "    </tr>\n",
       "    <tr>\n",
       "      <th>fraud_reported</th>\n",
       "      <th></th>\n",
       "      <th></th>\n",
       "    </tr>\n",
       "  </thead>\n",
       "  <tbody>\n",
       "    <tr>\n",
       "      <th>0</th>\n",
       "      <td>362</td>\n",
       "      <td>16</td>\n",
       "    </tr>\n",
       "    <tr>\n",
       "      <th>1</th>\n",
       "      <td>100</td>\n",
       "      <td>28</td>\n",
       "    </tr>\n",
       "  </tbody>\n",
       "</table>\n",
       "</div>"
      ],
      "text/plain": [
       "col_0             0   1\n",
       "fraud_reported         \n",
       "0               362  16\n",
       "1               100  28"
      ]
     },
     "execution_count": 72,
     "metadata": {},
     "output_type": "execute_result"
    }
   ],
   "source": [
    "rf_ct=pd.crosstab(y_test, rf_predictions)\n",
    "rf_ct"
   ]
  },
  {
   "cell_type": "code",
   "execution_count": 73,
   "metadata": {},
   "outputs": [
    {
     "data": {
      "text/plain": [
       "0.042328042328042326"
      ]
     },
     "execution_count": 73,
     "metadata": {},
     "output_type": "execute_result"
    }
   ],
   "source": [
    "type1_rf=rf_ct.iloc[0,1]/(rf_ct.iloc[0,0]+rf_ct.iloc[0,1])\n",
    "type1_rf"
   ]
  },
  {
   "cell_type": "code",
   "execution_count": 74,
   "metadata": {},
   "outputs": [
    {
     "data": {
      "text/plain": [
       "0.78125"
      ]
     },
     "execution_count": 74,
     "metadata": {},
     "output_type": "execute_result"
    }
   ],
   "source": [
    "type2_rf=rf_ct.iloc[1,0]/(rf_ct.iloc[1,1]+rf_ct.iloc[1,0])\n",
    "type2_rf"
   ]
  },
  {
   "cell_type": "code",
   "execution_count": 75,
   "metadata": {},
   "outputs": [
    {
     "data": {
      "text/plain": [
       "0.21875"
      ]
     },
     "execution_count": 75,
     "metadata": {},
     "output_type": "execute_result"
    }
   ],
   "source": [
    "#Accuracy of fraud detecting\n",
    "#Correctly predicts fraud / Total fraud\n",
    "fraud_acc_rf = rf_ct.iloc[1,1] / (rf_ct.iloc[1,1]+rf_ct.iloc[1,0])\n",
    "fraud_acc_rf"
   ]
  },
  {
   "cell_type": "code",
   "execution_count": 76,
   "metadata": {},
   "outputs": [
    {
     "data": {
      "text/plain": [
       "0.9576719576719577"
      ]
     },
     "execution_count": 76,
     "metadata": {},
     "output_type": "execute_result"
    }
   ],
   "source": [
    "#Accuracy of not fraud detecting\n",
    "#Correctly predicts not fraud / Total not fraud\n",
    "nfraud_acc_rf = rf_ct.iloc[0,0] / (rf_ct.iloc[0,1]+rf_ct.iloc[0,0])\n",
    "nfraud_acc_rf"
   ]
  },
  {
   "cell_type": "code",
   "execution_count": 77,
   "metadata": {},
   "outputs": [
    {
     "data": {
      "text/plain": [
       "0.7707509881422925"
      ]
     },
     "execution_count": 77,
     "metadata": {},
     "output_type": "execute_result"
    }
   ],
   "source": [
    "#R_pseudo\n",
    "r_rf=(rf_ct.iloc[0,0]+rf_ct.iloc[1,1])/(rf_ct.iloc[0,0]+rf_ct.iloc[0,1]+rf_ct.iloc[1,0]+rf_ct.iloc[1,1])\n",
    "r_rf"
   ]
  },
  {
   "cell_type": "markdown",
   "metadata": {},
   "source": [
    "# Summary results"
   ]
  },
  {
   "cell_type": "code",
   "execution_count": 78,
   "metadata": {},
   "outputs": [
    {
     "data": {
      "text/html": [
       "<div>\n",
       "<style scoped>\n",
       "    .dataframe tbody tr th:only-of-type {\n",
       "        vertical-align: middle;\n",
       "    }\n",
       "\n",
       "    .dataframe tbody tr th {\n",
       "        vertical-align: top;\n",
       "    }\n",
       "\n",
       "    .dataframe thead th {\n",
       "        text-align: right;\n",
       "    }\n",
       "</style>\n",
       "<table border=\"1\" class=\"dataframe\">\n",
       "  <thead>\n",
       "    <tr style=\"text-align: right;\">\n",
       "      <th></th>\n",
       "      <th>Fraud</th>\n",
       "      <th>OLS</th>\n",
       "      <th>Ridge</th>\n",
       "      <th>Logit</th>\n",
       "      <th>Lasso_Logit</th>\n",
       "      <th>Random Forest</th>\n",
       "    </tr>\n",
       "  </thead>\n",
       "  <tbody>\n",
       "    <tr>\n",
       "      <th>0</th>\n",
       "      <td>1</td>\n",
       "      <td>1.0</td>\n",
       "      <td>1.0</td>\n",
       "      <td>1</td>\n",
       "      <td>1</td>\n",
       "      <td>1</td>\n",
       "    </tr>\n",
       "    <tr>\n",
       "      <th>4</th>\n",
       "      <td>0</td>\n",
       "      <td>-0.0</td>\n",
       "      <td>-0.0</td>\n",
       "      <td>0</td>\n",
       "      <td>0</td>\n",
       "      <td>0</td>\n",
       "    </tr>\n",
       "    <tr>\n",
       "      <th>5</th>\n",
       "      <td>1</td>\n",
       "      <td>1.0</td>\n",
       "      <td>1.0</td>\n",
       "      <td>1</td>\n",
       "      <td>1</td>\n",
       "      <td>0</td>\n",
       "    </tr>\n",
       "    <tr>\n",
       "      <th>6</th>\n",
       "      <td>0</td>\n",
       "      <td>0.0</td>\n",
       "      <td>-0.0</td>\n",
       "      <td>0</td>\n",
       "      <td>0</td>\n",
       "      <td>0</td>\n",
       "    </tr>\n",
       "    <tr>\n",
       "      <th>7</th>\n",
       "      <td>0</td>\n",
       "      <td>-0.0</td>\n",
       "      <td>-0.0</td>\n",
       "      <td>0</td>\n",
       "      <td>0</td>\n",
       "      <td>0</td>\n",
       "    </tr>\n",
       "    <tr>\n",
       "      <th>...</th>\n",
       "      <td>...</td>\n",
       "      <td>...</td>\n",
       "      <td>...</td>\n",
       "      <td>...</td>\n",
       "      <td>...</td>\n",
       "      <td>...</td>\n",
       "    </tr>\n",
       "    <tr>\n",
       "      <th>988</th>\n",
       "      <td>0</td>\n",
       "      <td>0.0</td>\n",
       "      <td>0.0</td>\n",
       "      <td>0</td>\n",
       "      <td>0</td>\n",
       "      <td>0</td>\n",
       "    </tr>\n",
       "    <tr>\n",
       "      <th>993</th>\n",
       "      <td>0</td>\n",
       "      <td>0.0</td>\n",
       "      <td>0.0</td>\n",
       "      <td>0</td>\n",
       "      <td>0</td>\n",
       "      <td>0</td>\n",
       "    </tr>\n",
       "    <tr>\n",
       "      <th>994</th>\n",
       "      <td>0</td>\n",
       "      <td>0.0</td>\n",
       "      <td>0.0</td>\n",
       "      <td>0</td>\n",
       "      <td>0</td>\n",
       "      <td>0</td>\n",
       "    </tr>\n",
       "    <tr>\n",
       "      <th>996</th>\n",
       "      <td>0</td>\n",
       "      <td>1.0</td>\n",
       "      <td>1.0</td>\n",
       "      <td>1</td>\n",
       "      <td>1</td>\n",
       "      <td>1</td>\n",
       "    </tr>\n",
       "    <tr>\n",
       "      <th>997</th>\n",
       "      <td>0</td>\n",
       "      <td>0.0</td>\n",
       "      <td>0.0</td>\n",
       "      <td>0</td>\n",
       "      <td>0</td>\n",
       "      <td>0</td>\n",
       "    </tr>\n",
       "  </tbody>\n",
       "</table>\n",
       "<p>506 rows × 6 columns</p>\n",
       "</div>"
      ],
      "text/plain": [
       "     Fraud  OLS  Ridge  Logit  Lasso_Logit  Random Forest\n",
       "0        1  1.0    1.0      1            1              1\n",
       "4        0 -0.0   -0.0      0            0              0\n",
       "5        1  1.0    1.0      1            1              0\n",
       "6        0  0.0   -0.0      0            0              0\n",
       "7        0 -0.0   -0.0      0            0              0\n",
       "..     ...  ...    ...    ...          ...            ...\n",
       "988      0  0.0    0.0      0            0              0\n",
       "993      0  0.0    0.0      0            0              0\n",
       "994      0  0.0    0.0      0            0              0\n",
       "996      0  1.0    1.0      1            1              1\n",
       "997      0  0.0    0.0      0            0              0\n",
       "\n",
       "[506 rows x 6 columns]"
      ]
     },
     "execution_count": 78,
     "metadata": {},
     "output_type": "execute_result"
    }
   ],
   "source": [
    "test_data={'Fraud': y_test,\n",
    "    'OLS': ols_predictions,\n",
    "    'Ridge': ridge_predictions,\n",
    "    'Logit': logit_predictions,\n",
    "    'Lasso_Logit': lasso_logit_predictions,\n",
    "    'Random Forest': rf_predictions\n",
    "          }\n",
    "\n",
    "\n",
    "test_df = pd.DataFrame(test_data)\n",
    "test_df"
   ]
  },
  {
   "cell_type": "markdown",
   "metadata": {},
   "source": [
    "El MSE es una medida del promedio de los cuadrados de los errores, es decir, la diferencia promedio al cuadrado entre los valores observados y los valores predichos por el modelo. Cuanto menor sea el MSE, mejor será el modelo en términos de precisión.\n",
    "\n",
    "El Pseudo R-cuadrado es una medida que intenta proporcionar una interpretación similar al R-cuadrado para modelos que no son de mínimos cuadrados ordinarios, como la regresión logística. No se interpreta exactamente de la misma manera que el R-cuadrado en la regresión lineal, pero un valor más alto generalmente indica un mejor ajuste del modelo.\n",
    "\n",
    "Error de Tipo 1 (Falsos Positivos): Un alto error de Tipo 1 significa que el modelo está identificando incorrectamente transacciones legítimas como fraudulentas. Esto puede ser costoso y molesto para los clientes legítimos y puede dañar la relación con los clientes y la reputación de la compañía de seguros. Predice que hay fraude, cuando no hay fraude.\n",
    "\n",
    "El error de Tipo 2 se refiere a la tasa de falsos negativos, es decir, cuántas veces un modelo no logra detectar un evento (como el fraude) cuando en realidad sí ocurrió. Esto puede resultar en pérdidas financieras significativas para la compañía de seguros si los reclamos fraudulentos no se detectan. Predice que no hay fraude, cuando hay fraude"
   ]
  },
  {
   "cell_type": "code",
   "execution_count": 79,
   "metadata": {
    "scrolled": true
   },
   "outputs": [
    {
     "data": {
      "text/html": [
       "<div>\n",
       "<style scoped>\n",
       "    .dataframe tbody tr th:only-of-type {\n",
       "        vertical-align: middle;\n",
       "    }\n",
       "\n",
       "    .dataframe tbody tr th {\n",
       "        vertical-align: top;\n",
       "    }\n",
       "\n",
       "    .dataframe thead th {\n",
       "        text-align: right;\n",
       "    }\n",
       "</style>\n",
       "<table border=\"1\" class=\"dataframe\">\n",
       "  <thead>\n",
       "    <tr style=\"text-align: right;\">\n",
       "      <th></th>\n",
       "      <th>Model</th>\n",
       "      <th>MSE</th>\n",
       "      <th>Pseudo R^2</th>\n",
       "      <th>Fraud prediction accuracy</th>\n",
       "      <th>Type 2 error</th>\n",
       "      <th>Not Fraud prediction accuracy</th>\n",
       "      <th>Type 1 error</th>\n",
       "    </tr>\n",
       "  </thead>\n",
       "  <tbody>\n",
       "    <tr>\n",
       "      <th>0</th>\n",
       "      <td>OLS</td>\n",
       "      <td>0.211462</td>\n",
       "      <td>0.788538</td>\n",
       "      <td>0.445312</td>\n",
       "      <td>0.554688</td>\n",
       "      <td>0.904762</td>\n",
       "      <td>0.095238</td>\n",
       "    </tr>\n",
       "    <tr>\n",
       "      <th>1</th>\n",
       "      <td>RIDGE</td>\n",
       "      <td>0.199605</td>\n",
       "      <td>0.800395</td>\n",
       "      <td>0.492188</td>\n",
       "      <td>0.507812</td>\n",
       "      <td>0.904762</td>\n",
       "      <td>0.095238</td>\n",
       "    </tr>\n",
       "    <tr>\n",
       "      <th>2</th>\n",
       "      <td>LOGIT</td>\n",
       "      <td>0.213439</td>\n",
       "      <td>0.786561</td>\n",
       "      <td>0.445312</td>\n",
       "      <td>0.554688</td>\n",
       "      <td>0.902116</td>\n",
       "      <td>0.097884</td>\n",
       "    </tr>\n",
       "    <tr>\n",
       "      <th>3</th>\n",
       "      <td>LASSO LOGIT</td>\n",
       "      <td>0.209486</td>\n",
       "      <td>0.790514</td>\n",
       "      <td>0.460938</td>\n",
       "      <td>0.539062</td>\n",
       "      <td>0.902116</td>\n",
       "      <td>0.097884</td>\n",
       "    </tr>\n",
       "    <tr>\n",
       "      <th>4</th>\n",
       "      <td>RANDOM FOREST</td>\n",
       "      <td>0.229249</td>\n",
       "      <td>0.770751</td>\n",
       "      <td>0.218750</td>\n",
       "      <td>0.781250</td>\n",
       "      <td>0.957672</td>\n",
       "      <td>0.042328</td>\n",
       "    </tr>\n",
       "  </tbody>\n",
       "</table>\n",
       "</div>"
      ],
      "text/plain": [
       "           Model       MSE  Pseudo R^2  Fraud prediction accuracy  \\\n",
       "0            OLS  0.211462    0.788538                   0.445312   \n",
       "1          RIDGE  0.199605    0.800395                   0.492188   \n",
       "2          LOGIT  0.213439    0.786561                   0.445312   \n",
       "3    LASSO LOGIT  0.209486    0.790514                   0.460938   \n",
       "4  RANDOM FOREST  0.229249    0.770751                   0.218750   \n",
       "\n",
       "   Type 2 error  Not Fraud prediction accuracy  Type 1 error  \n",
       "0      0.554688                       0.904762      0.095238  \n",
       "1      0.507812                       0.904762      0.095238  \n",
       "2      0.554688                       0.902116      0.097884  \n",
       "3      0.539062                       0.902116      0.097884  \n",
       "4      0.781250                       0.957672      0.042328  "
      ]
     },
     "execution_count": 79,
     "metadata": {},
     "output_type": "execute_result"
    }
   ],
   "source": [
    "mse_values=[mse_ols, mse_ridge, mse_logit, mse_lasso_logit, mse_rf]\n",
    "pseudo_r2=[r_ols, r_ridge, r_logit,r_lasso_logit, r_rf]\n",
    "type1=[type1_ols, type1_ridge, type1_logit, type1_lasso_logit, type1_rf]\n",
    "type2=[type2_ols, type2_ridge, type2_logit, type2_lasso_logit, type2_rf]\n",
    "fraud_acc=[fraud_acc_ols, fraud_acc_ridge, fraud_acc_logit, fraud_acc_lasso_logit, fraud_acc_rf]\n",
    "nfraud_acc=[nfraud_acc_ols, nfraud_acc_ridge, nfraud_acc_logit, nfraud_acc_lasso_logit, nfraud_acc_rf]\n",
    "\n",
    "model_names=['OLS', 'RIDGE', 'LOGIT', 'LASSO LOGIT', 'RANDOM FOREST']\n",
    "summary_df = pd.DataFrame({\n",
    "    'Model': model_names,\n",
    "    'MSE': mse_values,\n",
    "    'Pseudo R^2': pseudo_r2,\n",
    "    'Fraud prediction accuracy': fraud_acc, \n",
    "    'Type 2 error': type2, \n",
    "    'Not Fraud prediction accuracy': nfraud_acc,\n",
    "    'Type 1 error': type1\n",
    "    \n",
    "})\n",
    "summary_df"
   ]
  },
  {
   "cell_type": "markdown",
   "metadata": {},
   "source": [
    "# First Conclusions "
   ]
  },
  {
   "cell_type": "markdown",
   "metadata": {},
   "source": [
    "Si analizando los modelos:\n",
    "\n",
    "1.-\n",
    "RIDGE tiene el menor MSE y el mayor Pseudo R-cuadrado, lo que sugiere que es el mejor en términos de ajuste del modelo y precisión. Además, es el segundo modelo con menor error tipo 1. \n"
   ]
  },
  {
   "cell_type": "markdown",
   "metadata": {},
   "source": [
    "2.- OLS es el modelo que minimiza el error tipo 2, es decir, es el modelo que con mayor precisión predice fraude"
   ]
  },
  {
   "cell_type": "markdown",
   "metadata": {},
   "source": [
    "3.-RANDOM FOREST tiene la tasa de error de Tipo 1 más baja, lo que indica que cuando identifica un caso como \"No fraude\", es más probable que realmente no lo sea. Es el modelo que predice con mayor precisión el \"no fraude\""
   ]
  },
  {
   "cell_type": "markdown",
   "metadata": {},
   "source": [
    "Dada la naturaleza del problema, queremos un modelo que equilibre la detección precisa del fraude (bajo error de Tipo 2) con una cantidad manejable de falsos positivos (error de Tipo 1), pero nos interesa más que minimice el error tipo 2, ya que la prima por tener el seguro es menor a la cantidad que se paga en caso de siniestro."
   ]
  },
  {
   "cell_type": "markdown",
   "metadata": {},
   "source": [
    "Por ese motivo, es importante hacer el análisis en términos de dinero y en los beneficios monetarios que cada modelo brinda."
   ]
  },
  {
   "cell_type": "markdown",
   "metadata": {},
   "source": [
    "## In $ terms\n",
    "\n",
    "**Whatever prediction I make, I won´t pay for the investigation costs: private detectives, interviews, administrative expenses, transportation costs, manpower.**\n",
    "\n",
    "**If I predict fraud, I won´t pay the total claim and I will lose a customer, as none of the parties would like to work with each other anymore.**\n",
    "\n",
    "If I correctly predict fraud, I will gain the \"Total claim amount\"\n",
    "(I didn´t pay when I shouldn´t have). \n",
    "\n",
    "If incorrectly predict fraud (type 1), I will face legal action and, eventually, pay the Total Claim amount (I didn´t pay when I should have).\n",
    "\n",
    "**If I predict not fraud, I will pay**\n",
    "\n",
    "If I correctly predict not fraud, I will \"not lose\" (gain) the policy annual premium\n",
    "(I paid when I should have)\n",
    "\n",
    "If I incorrectly predict not fraud (type 2), I will lose the \"Total claim amount\" (because I shouldn´t be paying it)\n",
    "(I paid when I shouldn´t have)\n",
    "\n",
    "\n"
   ]
  },
  {
   "cell_type": "markdown",
   "metadata": {},
   "source": [
    "## Benefit\n",
    "\n",
    "Whatever prediction, I won´t spend on additional investigation\n",
    "\n",
    "If the prediction is \"not fraud\" the outcome would be the same as if the model had never been implemented .\n",
    "\n",
    "If the prediction is \"fraud\", I won´t pay, but I will lose a customer. There will be incremental flows: the incremental gain is when I correctly predict fraud, but the incremental loss is when I incorrectly predict fraud .\n",
    "\n",
    "**gain:   total claim when fraud * probability of accurately predicting fraud  + total investigation costs**\n",
    "\n",
    "**loss:   total annual premium when fraud + (total claim amount + legal fees)* probability of incorrectly predicting fraud (type 1)**\n",
    "\n",
    "Economical Benefit = gain - loss"
   ]
  },
  {
   "cell_type": "code",
   "execution_count": 80,
   "metadata": {},
   "outputs": [
    {
     "data": {
      "text/plain": [
       "7854800"
      ]
     },
     "execution_count": 80,
     "metadata": {},
     "output_type": "execute_result"
    }
   ],
   "source": [
    "wacc = 0.0764\n",
    "#Total claim when fraud occurred\n",
    "total_claim = x_test.loc[y_test == 1, 'total_claim_amount'].sum()\n",
    "total_claim"
   ]
  },
  {
   "cell_type": "code",
   "execution_count": 81,
   "metadata": {},
   "outputs": [
    {
     "data": {
      "text/plain": [
       "2102675.3926701574"
      ]
     },
     "execution_count": 81,
     "metadata": {},
     "output_type": "execute_result"
    }
   ],
   "source": [
    "#Total premium when fraud ocurred\n",
    "total_policy =((x_test.loc[y_test ==1, 'policy_annual_premium'])/wacc).sum()\n",
    "total_policy"
   ]
  },
  {
   "cell_type": "code",
   "execution_count": 82,
   "metadata": {},
   "outputs": [
    {
     "data": {
      "text/plain": [
       "278300"
      ]
     },
     "execution_count": 82,
     "metadata": {},
     "output_type": "execute_result"
    }
   ],
   "source": [
    "#Total investigation costs = 500 dollares per incident (median of the range [400,700])\n",
    "#Includes private detectives, interviews, administrative expenses, transportation costs, manpower, etc.**\n",
    "total_investigation_costs = y_test.count() * 550\n",
    "total_investigation_costs \n",
    "#(506) * 550"
   ]
  },
  {
   "cell_type": "code",
   "execution_count": 83,
   "metadata": {},
   "outputs": [],
   "source": [
    "#Legal fees are assumed to be proportional to the size of the claim\n",
    "#In this case, we assume that legal fees are ina range of 33% and 40% of the total claim, we decided to use the median\n",
    "legal_fees = 0.365"
   ]
  },
  {
   "cell_type": "code",
   "execution_count": 84,
   "metadata": {},
   "outputs": [
    {
     "data": {
      "text/html": [
       "<div>\n",
       "<style scoped>\n",
       "    .dataframe tbody tr th:only-of-type {\n",
       "        vertical-align: middle;\n",
       "    }\n",
       "\n",
       "    .dataframe tbody tr th {\n",
       "        vertical-align: top;\n",
       "    }\n",
       "\n",
       "    .dataframe thead th {\n",
       "        text-align: right;\n",
       "    }\n",
       "</style>\n",
       "<table border=\"1\" class=\"dataframe\">\n",
       "  <thead>\n",
       "    <tr style=\"text-align: right;\">\n",
       "      <th></th>\n",
       "      <th>Model</th>\n",
       "      <th>Fraud prediction accuracy</th>\n",
       "      <th>Type 2 error</th>\n",
       "      <th>Not Fraud prediction accuracy</th>\n",
       "      <th>Type 1 error</th>\n",
       "      <th>Gain</th>\n",
       "      <th>Loss</th>\n",
       "      <th>Benefit in thousands</th>\n",
       "    </tr>\n",
       "  </thead>\n",
       "  <tbody>\n",
       "    <tr>\n",
       "      <th>0</th>\n",
       "      <td>OLS</td>\n",
       "      <td>0.445312</td>\n",
       "      <td>0.554688</td>\n",
       "      <td>0.904762</td>\n",
       "      <td>0.095238</td>\n",
       "      <td>3776.140625</td>\n",
       "      <td>3123.799393</td>\n",
       "      <td>652.341232</td>\n",
       "    </tr>\n",
       "    <tr>\n",
       "      <th>1</th>\n",
       "      <td>RIDGE</td>\n",
       "      <td>0.492188</td>\n",
       "      <td>0.507812</td>\n",
       "      <td>0.904762</td>\n",
       "      <td>0.095238</td>\n",
       "      <td>4144.334375</td>\n",
       "      <td>3123.799393</td>\n",
       "      <td>1020.534982</td>\n",
       "    </tr>\n",
       "    <tr>\n",
       "      <th>2</th>\n",
       "      <td>LOGIT</td>\n",
       "      <td>0.445312</td>\n",
       "      <td>0.554688</td>\n",
       "      <td>0.902116</td>\n",
       "      <td>0.097884</td>\n",
       "      <td>3776.140625</td>\n",
       "      <td>3152.163948</td>\n",
       "      <td>623.976677</td>\n",
       "    </tr>\n",
       "    <tr>\n",
       "      <th>3</th>\n",
       "      <td>LASSO LOGIT</td>\n",
       "      <td>0.460938</td>\n",
       "      <td>0.539062</td>\n",
       "      <td>0.902116</td>\n",
       "      <td>0.097884</td>\n",
       "      <td>3898.871875</td>\n",
       "      <td>3152.163948</td>\n",
       "      <td>746.707927</td>\n",
       "    </tr>\n",
       "    <tr>\n",
       "      <th>4</th>\n",
       "      <td>RANDOM FOREST</td>\n",
       "      <td>0.218750</td>\n",
       "      <td>0.781250</td>\n",
       "      <td>0.957672</td>\n",
       "      <td>0.042328</td>\n",
       "      <td>1996.537500</td>\n",
       "      <td>2556.508282</td>\n",
       "      <td>-559.970782</td>\n",
       "    </tr>\n",
       "  </tbody>\n",
       "</table>\n",
       "</div>"
      ],
      "text/plain": [
       "           Model  Fraud prediction accuracy  Type 2 error  \\\n",
       "0            OLS                   0.445312      0.554688   \n",
       "1          RIDGE                   0.492188      0.507812   \n",
       "2          LOGIT                   0.445312      0.554688   \n",
       "3    LASSO LOGIT                   0.460938      0.539062   \n",
       "4  RANDOM FOREST                   0.218750      0.781250   \n",
       "\n",
       "   Not Fraud prediction accuracy  Type 1 error         Gain         Loss  \\\n",
       "0                       0.904762      0.095238  3776.140625  3123.799393   \n",
       "1                       0.904762      0.095238  4144.334375  3123.799393   \n",
       "2                       0.902116      0.097884  3776.140625  3152.163948   \n",
       "3                       0.902116      0.097884  3898.871875  3152.163948   \n",
       "4                       0.957672      0.042328  1996.537500  2556.508282   \n",
       "\n",
       "   Benefit in thousands  \n",
       "0            652.341232  \n",
       "1           1020.534982  \n",
       "2            623.976677  \n",
       "3            746.707927  \n",
       "4           -559.970782  "
      ]
     },
     "execution_count": 84,
     "metadata": {},
     "output_type": "execute_result"
    }
   ],
   "source": [
    "gain = [  (total_claim*fraud_acc_ols + total_investigation_costs)/10**3, \n",
    "          (total_claim*fraud_acc_ridge + total_investigation_costs)/10**3,\n",
    "          (total_claim*fraud_acc_logit + total_investigation_costs)/10**3,\n",
    "          (total_claim*fraud_acc_lasso_logit + total_investigation_costs)/10**3, \n",
    "          (total_claim*fraud_acc_rf + total_investigation_costs)/10**3]\n",
    "\n",
    "loss = [ ((1+legal_fees)*total_claim*type1_ols + total_policy)/10**3, \n",
    "           ((1+legal_fees)*total_claim*type1_ridge + total_policy)/10**3,\n",
    "         ((1+legal_fees)*total_claim*type1_logit + total_policy)/10**3,\n",
    "           ((1+legal_fees)*total_claim*type1_lasso_logit + total_policy)/10**3, \n",
    "          ((1+legal_fees)*total_claim*type1_rf + total_policy)/10**3]\n",
    "\n",
    "\n",
    "benefit = [(total_claim*fraud_acc_ols + total_investigation_costs - (1+legal_fees)*total_claim*type1_ols - total_policy)/10**3, \n",
    "          (total_claim*fraud_acc_ridge + total_investigation_costs - (1+legal_fees)*total_claim*type1_ridge - total_policy)/10**3,\n",
    "          (total_claim*fraud_acc_logit + total_investigation_costs - (1+legal_fees)*total_claim*type1_logit - total_policy)/10**3,\n",
    "          (total_claim*fraud_acc_lasso_logit + total_investigation_costs - (1+legal_fees)*total_claim*type1_lasso_logit - total_policy)/10**3, \n",
    "          (total_claim*fraud_acc_rf + total_investigation_costs - (1+legal_fees)*total_claim*type1_rf - total_policy)/10**3]\n",
    "\n",
    "             \n",
    "\n",
    "model_names=['OLS', 'RIDGE', 'LOGIT', 'LASSO LOGIT', 'RANDOM FOREST']\n",
    "summary_df = pd.DataFrame({\n",
    "    'Model': model_names,\n",
    "    'Fraud prediction accuracy': fraud_acc, \n",
    "    'Type 2 error': type2, \n",
    "    'Not Fraud prediction accuracy': nfraud_acc,\n",
    "    'Type 1 error': type1,\n",
    "    'Gain': gain, \n",
    "    'Loss': loss,\n",
    "    'Benefit in thousands': benefit\n",
    "    \n",
    "    \n",
    "})\n",
    "summary_df"
   ]
  },
  {
   "cell_type": "code",
   "execution_count": 85,
   "metadata": {},
   "outputs": [
    {
     "data": {
      "text/plain": [
       "128"
      ]
     },
     "execution_count": 85,
     "metadata": {},
     "output_type": "execute_result"
    }
   ],
   "source": [
    "#Casos de fraude en test\n",
    "y_test.sum()"
   ]
  },
  {
   "cell_type": "markdown",
   "metadata": {},
   "source": [
    "A pesar de que RIDGE no es el modelo que minimiza  el error tipo 1 o 2, es el modelo con menor MSE y es el \"segundo\" que mejor minimiza ambos errores. Por su buen ajuste, en general, y por su alta acertividad en predecir el fraude, RIDGE es el modelo que maximiza los beneficios económicos de la empresa.  \n",
    "\n",
    "En ese sentido, que la aseguradora use ese modelo le ayudará a ahorrar 894 mil de dólares por cada 128 casos de fraude, pues identifica el 50% de los fraudes.\n",
    "\n",
    "Si extrapolamos estos resultados y aplicamos el modelo a más de 128 casos, las ganancias aumentarán significativamente."
   ]
  },
  {
   "cell_type": "code",
   "execution_count": 86,
   "metadata": {},
   "outputs": [
    {
     "name": "stdout",
     "output_type": "stream",
     "text": [
      "61365.625\n",
      "1255.0343749999997\n"
     ]
    }
   ],
   "source": [
    "c1 = x_test.loc[y_test == 1, 'total_claim_amount'].mean()\n",
    "p1 = x_test.loc[y_test == 1, 'policy_annual_premium'].mean()\n",
    "print(c1)\n",
    "print(p1)"
   ]
  },
  {
   "cell_type": "code",
   "execution_count": 90,
   "metadata": {},
   "outputs": [
    {
     "data": {
      "image/png": "[encoded data removed]",
      "text/plain": [
       "<Figure size 1296x432 with 3 Axes>"
      ]
     },
     "metadata": {},
     "output_type": "display_data"
    }
   ],
   "source": [
    "import pandas as pd\n",
    "import matplotlib.pyplot as plt\n",
    "import seaborn as sns\n",
    "\n",
    "# Assuming summary_df is already created as per your code\n",
    "# If not, make sure to create it first\n",
    "\n",
    "# Set the style for seaborn\n",
    "sns.set(style=\"whitegrid\")\n",
    "\n",
    "# Define the metrics to plot\n",
    "metrics = ['Gain', 'Loss', 'Benefit in thousands']\n",
    "\n",
    "# Create subplots\n",
    "fig, axes = plt.subplots(1, 3, figsize=(18, 6))\n",
    "\n",
    "for ax, metric in zip(axes, metrics):\n",
    "    sns.barplot(x='Model', y=metric, data=summary_df, ax=ax, palette='viridis')\n",
    "    ax.set_title(f'{metric} by Model')\n",
    "    ax.set_ylabel(metric)\n",
    "    ax.set_xlabel('Model')\n",
    "    # Annotate bars with values\n",
    "    for p in ax.patches:\n",
    "        ax.annotate(f'{p.get_height():.2f}', (p.get_x() + p.get_width() / 2., p.get_height()),\n",
    "                    ha='center', va='bottom', fontsize=10)\n",
    "\n",
    "plt.tight_layout()\n",
    "plt.show()"
   ]
  },
  {
   "cell_type": "code",
   "execution_count": 92,
   "metadata": {},
   "outputs": [
    {
     "data": {
      "image/png": "[encoded data removed]",
      "text/plain": [
       "<Figure size 720x432 with 1 Axes>"
      ]
     },
     "metadata": {},
     "output_type": "display_data"
    }
   ],
   "source": [
    "# Select the metrics to include in the grouped bar chart\n",
    "grouped_metrics = ['Gain', 'Loss', 'Benefit in thousands']\n",
    "\n",
    "# Melt the dataframe for seaborn\n",
    "melted_df = summary_df.melt(id_vars='Model', value_vars=grouped_metrics, var_name='Metric', value_name='Value')\n",
    "\n",
    "# Set the figure size\n",
    "plt.figure(figsize=(10, 6))\n",
    "\n",
    "# Create the grouped bar chart\n",
    "sns.barplot(x='Model', y='Value', hue='Metric', data=melted_df, palette='Set2')\n",
    "\n",
    "# Set titles and labels\n",
    "plt.title('Comparison of Gain, Loss, and Benefit Across Models')\n",
    "plt.ylabel('Value (in thousands)')\n",
    "plt.xlabel('Model')\n",
    "plt.legend(title='Metric')\n",
    "\n",
    "# Annotate bars with values\n",
    "for container in plt.gca().containers:\n",
    "    plt.bar_label(container, fmt='%.2f', label_type='edge')\n",
    "\n",
    "plt.tight_layout()\n",
    "plt.show()"
   ]
  },
  {
   "cell_type": "code",
   "execution_count": null,
   "metadata": {},
   "outputs": [],
   "source": []
  }
 ],
 "metadata": {
  "kernelspec": {
   "display_name": "Python 3 (ipykernel)",
   "language": "python",
   "name": "python3"
  },
  "language_info": {
   "codemirror_mode": {
    "name": "ipython",
    "version": 3
   },
   "file_extension": ".py",
   "mimetype": "text/x-python",
   "name": "python",
   "nbconvert_exporter": "python",
   "pygments_lexer": "ipython3",
   "version": "3.9.7"
  }
 },
 "nbformat": 4,
 "nbformat_minor": 4
}
